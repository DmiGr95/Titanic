{
 "cells": [
  {
   "cell_type": "code",
   "execution_count": 1,
   "id": "a217e617",
   "metadata": {},
   "outputs": [],
   "source": [
    "import pandas as pd\n",
    "import numpy as np\n",
    "import matplotlib.pyplot as plt\n",
    "import seaborn as sns"
   ]
  },
  {
   "cell_type": "code",
   "execution_count": 2,
   "id": "c03a1828",
   "metadata": {},
   "outputs": [],
   "source": [
    "from sklearn.preprocessing import StandardScaler\n",
    "from sklearn.model_selection import StratifiedKFold, cross_val_score, GridSearchCV, RandomizedSearchCV\n",
    "from sklearn.metrics import accuracy_score\n",
    "\n",
    "from sklearn.tree import DecisionTreeClassifier\n",
    "from sklearn.neighbors import KNeighborsClassifier\n",
    "from sklearn.linear_model import LogisticRegression\n",
    "from sklearn.ensemble import RandomForestClassifier, GradientBoostingClassifier"
   ]
  },
  {
   "cell_type": "code",
   "execution_count": 2,
   "id": "9be27e16",
   "metadata": {},
   "outputs": [],
   "source": [
    "data_train = pd.read_csv(r'C:\\Users\\User\\Desktop\\Для задач\\Kaggle\\Соревнование Титаник\\Исходное\\train.csv')\n",
    "data_test = pd.read_csv(r'C:\\Users\\User\\Desktop\\Для задач\\Kaggle\\Соревнование Титаник\\Исходное\\test.csv')\n",
    "data_all = pd.concat([data_train, data_test]).reset_index(drop=True)"
   ]
  },
  {
   "cell_type": "markdown",
   "id": "325744ac",
   "metadata": {},
   "source": [
    "## Описание колонок\n",
    "'PassengerId': 'Номер_пассажира',      \n",
    "'Survived': 'Выжил',      \n",
    "'Pclass': 'класс_билета',      \n",
    "'Sex': 'Пол', \n",
    "'Age': 'Возраст',      \n",
    "'SibSp': 'Братьев_сестер',      \n",
    "'Parch': 'Родителей_детей',      \n",
    "'Fare': 'Тариф', \n",
    "'Cabin': 'Номер_каюты',      \n",
    "'Embarked': 'Порт_погрузки',      \n",
    "'Ticket': 'Номер_билета',       \n",
    "'Name': 'Имя'"
   ]
  },
  {
   "cell_type": "code",
   "execution_count": 3,
   "id": "a45e5393",
   "metadata": {},
   "outputs": [
    {
     "name": "stdout",
     "output_type": "stream",
     "text": [
      "В тренировочном наборе |   строк: 891; столбцов: 12\n",
      "В тестовом наборе      |   строк: 418; столбцов: 11\n",
      "В полном наборе        |   строк: 1309; столбцов: 12\n"
     ]
    }
   ],
   "source": [
    "print(f'В тренировочном наборе |   строк: {data_train.shape[0]}; столбцов: {data_train.shape[1]}')\n",
    "print(f'В тестовом наборе      |   строк: {data_test.shape[0]}; столбцов: {data_test.shape[1]}')\n",
    "print(f'В полном наборе        |   строк: {data_all.shape[0]}; столбцов: {data_all.shape[1]}')"
   ]
  },
  {
   "cell_type": "code",
   "execution_count": 4,
   "id": "fa477664",
   "metadata": {},
   "outputs": [
    {
     "data": {
      "text/html": [
       "<div>\n",
       "<style scoped>\n",
       "    .dataframe tbody tr th:only-of-type {\n",
       "        vertical-align: middle;\n",
       "    }\n",
       "\n",
       "    .dataframe tbody tr th {\n",
       "        vertical-align: top;\n",
       "    }\n",
       "\n",
       "    .dataframe thead th {\n",
       "        text-align: right;\n",
       "    }\n",
       "</style>\n",
       "<table border=\"1\" class=\"dataframe\">\n",
       "  <thead>\n",
       "    <tr style=\"text-align: right;\">\n",
       "      <th></th>\n",
       "      <th>PassengerId</th>\n",
       "      <th>Survived</th>\n",
       "      <th>Pclass</th>\n",
       "      <th>Name</th>\n",
       "      <th>Sex</th>\n",
       "      <th>Age</th>\n",
       "      <th>SibSp</th>\n",
       "      <th>Parch</th>\n",
       "      <th>Ticket</th>\n",
       "      <th>Fare</th>\n",
       "      <th>Cabin</th>\n",
       "      <th>Embarked</th>\n",
       "    </tr>\n",
       "  </thead>\n",
       "  <tbody>\n",
       "    <tr>\n",
       "      <th>0</th>\n",
       "      <td>1</td>\n",
       "      <td>0</td>\n",
       "      <td>3</td>\n",
       "      <td>Braund, Mr. Owen Harris</td>\n",
       "      <td>male</td>\n",
       "      <td>22.0</td>\n",
       "      <td>1</td>\n",
       "      <td>0</td>\n",
       "      <td>A/5 21171</td>\n",
       "      <td>7.2500</td>\n",
       "      <td>NaN</td>\n",
       "      <td>S</td>\n",
       "    </tr>\n",
       "    <tr>\n",
       "      <th>1</th>\n",
       "      <td>2</td>\n",
       "      <td>1</td>\n",
       "      <td>1</td>\n",
       "      <td>Cumings, Mrs. John Bradley (Florence Briggs Th...</td>\n",
       "      <td>female</td>\n",
       "      <td>38.0</td>\n",
       "      <td>1</td>\n",
       "      <td>0</td>\n",
       "      <td>PC 17599</td>\n",
       "      <td>71.2833</td>\n",
       "      <td>C85</td>\n",
       "      <td>C</td>\n",
       "    </tr>\n",
       "    <tr>\n",
       "      <th>2</th>\n",
       "      <td>3</td>\n",
       "      <td>1</td>\n",
       "      <td>3</td>\n",
       "      <td>Heikkinen, Miss. Laina</td>\n",
       "      <td>female</td>\n",
       "      <td>26.0</td>\n",
       "      <td>0</td>\n",
       "      <td>0</td>\n",
       "      <td>STON/O2. 3101282</td>\n",
       "      <td>7.9250</td>\n",
       "      <td>NaN</td>\n",
       "      <td>S</td>\n",
       "    </tr>\n",
       "    <tr>\n",
       "      <th>3</th>\n",
       "      <td>4</td>\n",
       "      <td>1</td>\n",
       "      <td>1</td>\n",
       "      <td>Futrelle, Mrs. Jacques Heath (Lily May Peel)</td>\n",
       "      <td>female</td>\n",
       "      <td>35.0</td>\n",
       "      <td>1</td>\n",
       "      <td>0</td>\n",
       "      <td>113803</td>\n",
       "      <td>53.1000</td>\n",
       "      <td>C123</td>\n",
       "      <td>S</td>\n",
       "    </tr>\n",
       "    <tr>\n",
       "      <th>4</th>\n",
       "      <td>5</td>\n",
       "      <td>0</td>\n",
       "      <td>3</td>\n",
       "      <td>Allen, Mr. William Henry</td>\n",
       "      <td>male</td>\n",
       "      <td>35.0</td>\n",
       "      <td>0</td>\n",
       "      <td>0</td>\n",
       "      <td>373450</td>\n",
       "      <td>8.0500</td>\n",
       "      <td>NaN</td>\n",
       "      <td>S</td>\n",
       "    </tr>\n",
       "  </tbody>\n",
       "</table>\n",
       "</div>"
      ],
      "text/plain": [
       "   PassengerId  Survived  Pclass  \\\n",
       "0            1         0       3   \n",
       "1            2         1       1   \n",
       "2            3         1       3   \n",
       "3            4         1       1   \n",
       "4            5         0       3   \n",
       "\n",
       "                                                Name     Sex   Age  SibSp  \\\n",
       "0                            Braund, Mr. Owen Harris    male  22.0      1   \n",
       "1  Cumings, Mrs. John Bradley (Florence Briggs Th...  female  38.0      1   \n",
       "2                             Heikkinen, Miss. Laina  female  26.0      0   \n",
       "3       Futrelle, Mrs. Jacques Heath (Lily May Peel)  female  35.0      1   \n",
       "4                           Allen, Mr. William Henry    male  35.0      0   \n",
       "\n",
       "   Parch            Ticket     Fare Cabin Embarked  \n",
       "0      0         A/5 21171   7.2500   NaN        S  \n",
       "1      0          PC 17599  71.2833   C85        C  \n",
       "2      0  STON/O2. 3101282   7.9250   NaN        S  \n",
       "3      0            113803  53.1000  C123        S  \n",
       "4      0            373450   8.0500   NaN        S  "
      ]
     },
     "execution_count": 4,
     "metadata": {},
     "output_type": "execute_result"
    }
   ],
   "source": [
    "data_train.head()"
   ]
  },
  {
   "cell_type": "code",
   "execution_count": 5,
   "id": "b855fa03",
   "metadata": {},
   "outputs": [
    {
     "data": {
      "text/html": [
       "<div>\n",
       "<style scoped>\n",
       "    .dataframe tbody tr th:only-of-type {\n",
       "        vertical-align: middle;\n",
       "    }\n",
       "\n",
       "    .dataframe tbody tr th {\n",
       "        vertical-align: top;\n",
       "    }\n",
       "\n",
       "    .dataframe thead th {\n",
       "        text-align: right;\n",
       "    }\n",
       "</style>\n",
       "<table border=\"1\" class=\"dataframe\">\n",
       "  <thead>\n",
       "    <tr style=\"text-align: right;\">\n",
       "      <th></th>\n",
       "      <th>PassengerId</th>\n",
       "      <th>Pclass</th>\n",
       "      <th>Name</th>\n",
       "      <th>Sex</th>\n",
       "      <th>Age</th>\n",
       "      <th>SibSp</th>\n",
       "      <th>Parch</th>\n",
       "      <th>Ticket</th>\n",
       "      <th>Fare</th>\n",
       "      <th>Cabin</th>\n",
       "      <th>Embarked</th>\n",
       "    </tr>\n",
       "  </thead>\n",
       "  <tbody>\n",
       "    <tr>\n",
       "      <th>0</th>\n",
       "      <td>892</td>\n",
       "      <td>3</td>\n",
       "      <td>Kelly, Mr. James</td>\n",
       "      <td>male</td>\n",
       "      <td>34.5</td>\n",
       "      <td>0</td>\n",
       "      <td>0</td>\n",
       "      <td>330911</td>\n",
       "      <td>7.8292</td>\n",
       "      <td>NaN</td>\n",
       "      <td>Q</td>\n",
       "    </tr>\n",
       "    <tr>\n",
       "      <th>1</th>\n",
       "      <td>893</td>\n",
       "      <td>3</td>\n",
       "      <td>Wilkes, Mrs. James (Ellen Needs)</td>\n",
       "      <td>female</td>\n",
       "      <td>47.0</td>\n",
       "      <td>1</td>\n",
       "      <td>0</td>\n",
       "      <td>363272</td>\n",
       "      <td>7.0000</td>\n",
       "      <td>NaN</td>\n",
       "      <td>S</td>\n",
       "    </tr>\n",
       "    <tr>\n",
       "      <th>2</th>\n",
       "      <td>894</td>\n",
       "      <td>2</td>\n",
       "      <td>Myles, Mr. Thomas Francis</td>\n",
       "      <td>male</td>\n",
       "      <td>62.0</td>\n",
       "      <td>0</td>\n",
       "      <td>0</td>\n",
       "      <td>240276</td>\n",
       "      <td>9.6875</td>\n",
       "      <td>NaN</td>\n",
       "      <td>Q</td>\n",
       "    </tr>\n",
       "    <tr>\n",
       "      <th>3</th>\n",
       "      <td>895</td>\n",
       "      <td>3</td>\n",
       "      <td>Wirz, Mr. Albert</td>\n",
       "      <td>male</td>\n",
       "      <td>27.0</td>\n",
       "      <td>0</td>\n",
       "      <td>0</td>\n",
       "      <td>315154</td>\n",
       "      <td>8.6625</td>\n",
       "      <td>NaN</td>\n",
       "      <td>S</td>\n",
       "    </tr>\n",
       "    <tr>\n",
       "      <th>4</th>\n",
       "      <td>896</td>\n",
       "      <td>3</td>\n",
       "      <td>Hirvonen, Mrs. Alexander (Helga E Lindqvist)</td>\n",
       "      <td>female</td>\n",
       "      <td>22.0</td>\n",
       "      <td>1</td>\n",
       "      <td>1</td>\n",
       "      <td>3101298</td>\n",
       "      <td>12.2875</td>\n",
       "      <td>NaN</td>\n",
       "      <td>S</td>\n",
       "    </tr>\n",
       "  </tbody>\n",
       "</table>\n",
       "</div>"
      ],
      "text/plain": [
       "   PassengerId  Pclass                                          Name     Sex  \\\n",
       "0          892       3                              Kelly, Mr. James    male   \n",
       "1          893       3              Wilkes, Mrs. James (Ellen Needs)  female   \n",
       "2          894       2                     Myles, Mr. Thomas Francis    male   \n",
       "3          895       3                              Wirz, Mr. Albert    male   \n",
       "4          896       3  Hirvonen, Mrs. Alexander (Helga E Lindqvist)  female   \n",
       "\n",
       "    Age  SibSp  Parch   Ticket     Fare Cabin Embarked  \n",
       "0  34.5      0      0   330911   7.8292   NaN        Q  \n",
       "1  47.0      1      0   363272   7.0000   NaN        S  \n",
       "2  62.0      0      0   240276   9.6875   NaN        Q  \n",
       "3  27.0      0      0   315154   8.6625   NaN        S  \n",
       "4  22.0      1      1  3101298  12.2875   NaN        S  "
      ]
     },
     "execution_count": 5,
     "metadata": {},
     "output_type": "execute_result"
    }
   ],
   "source": [
    "data_test.head()"
   ]
  },
  {
   "cell_type": "code",
   "execution_count": 6,
   "id": "3e66abc5",
   "metadata": {},
   "outputs": [
    {
     "data": {
      "text/html": [
       "<div>\n",
       "<style scoped>\n",
       "    .dataframe tbody tr th:only-of-type {\n",
       "        vertical-align: middle;\n",
       "    }\n",
       "\n",
       "    .dataframe tbody tr th {\n",
       "        vertical-align: top;\n",
       "    }\n",
       "\n",
       "    .dataframe thead th {\n",
       "        text-align: right;\n",
       "    }\n",
       "</style>\n",
       "<table border=\"1\" class=\"dataframe\">\n",
       "  <thead>\n",
       "    <tr style=\"text-align: right;\">\n",
       "      <th></th>\n",
       "      <th>PassengerId</th>\n",
       "      <th>Survived</th>\n",
       "      <th>Pclass</th>\n",
       "      <th>Name</th>\n",
       "      <th>Sex</th>\n",
       "      <th>Age</th>\n",
       "      <th>SibSp</th>\n",
       "      <th>Parch</th>\n",
       "      <th>Ticket</th>\n",
       "      <th>Fare</th>\n",
       "      <th>Cabin</th>\n",
       "      <th>Embarked</th>\n",
       "    </tr>\n",
       "  </thead>\n",
       "  <tbody>\n",
       "    <tr>\n",
       "      <th>0</th>\n",
       "      <td>1</td>\n",
       "      <td>0.0</td>\n",
       "      <td>3</td>\n",
       "      <td>Braund, Mr. Owen Harris</td>\n",
       "      <td>male</td>\n",
       "      <td>22.0</td>\n",
       "      <td>1</td>\n",
       "      <td>0</td>\n",
       "      <td>A/5 21171</td>\n",
       "      <td>7.2500</td>\n",
       "      <td>NaN</td>\n",
       "      <td>S</td>\n",
       "    </tr>\n",
       "    <tr>\n",
       "      <th>1</th>\n",
       "      <td>2</td>\n",
       "      <td>1.0</td>\n",
       "      <td>1</td>\n",
       "      <td>Cumings, Mrs. John Bradley (Florence Briggs Th...</td>\n",
       "      <td>female</td>\n",
       "      <td>38.0</td>\n",
       "      <td>1</td>\n",
       "      <td>0</td>\n",
       "      <td>PC 17599</td>\n",
       "      <td>71.2833</td>\n",
       "      <td>C85</td>\n",
       "      <td>C</td>\n",
       "    </tr>\n",
       "    <tr>\n",
       "      <th>2</th>\n",
       "      <td>3</td>\n",
       "      <td>1.0</td>\n",
       "      <td>3</td>\n",
       "      <td>Heikkinen, Miss. Laina</td>\n",
       "      <td>female</td>\n",
       "      <td>26.0</td>\n",
       "      <td>0</td>\n",
       "      <td>0</td>\n",
       "      <td>STON/O2. 3101282</td>\n",
       "      <td>7.9250</td>\n",
       "      <td>NaN</td>\n",
       "      <td>S</td>\n",
       "    </tr>\n",
       "    <tr>\n",
       "      <th>3</th>\n",
       "      <td>4</td>\n",
       "      <td>1.0</td>\n",
       "      <td>1</td>\n",
       "      <td>Futrelle, Mrs. Jacques Heath (Lily May Peel)</td>\n",
       "      <td>female</td>\n",
       "      <td>35.0</td>\n",
       "      <td>1</td>\n",
       "      <td>0</td>\n",
       "      <td>113803</td>\n",
       "      <td>53.1000</td>\n",
       "      <td>C123</td>\n",
       "      <td>S</td>\n",
       "    </tr>\n",
       "    <tr>\n",
       "      <th>4</th>\n",
       "      <td>5</td>\n",
       "      <td>0.0</td>\n",
       "      <td>3</td>\n",
       "      <td>Allen, Mr. William Henry</td>\n",
       "      <td>male</td>\n",
       "      <td>35.0</td>\n",
       "      <td>0</td>\n",
       "      <td>0</td>\n",
       "      <td>373450</td>\n",
       "      <td>8.0500</td>\n",
       "      <td>NaN</td>\n",
       "      <td>S</td>\n",
       "    </tr>\n",
       "  </tbody>\n",
       "</table>\n",
       "</div>"
      ],
      "text/plain": [
       "   PassengerId  Survived  Pclass  \\\n",
       "0            1       0.0       3   \n",
       "1            2       1.0       1   \n",
       "2            3       1.0       3   \n",
       "3            4       1.0       1   \n",
       "4            5       0.0       3   \n",
       "\n",
       "                                                Name     Sex   Age  SibSp  \\\n",
       "0                            Braund, Mr. Owen Harris    male  22.0      1   \n",
       "1  Cumings, Mrs. John Bradley (Florence Briggs Th...  female  38.0      1   \n",
       "2                             Heikkinen, Miss. Laina  female  26.0      0   \n",
       "3       Futrelle, Mrs. Jacques Heath (Lily May Peel)  female  35.0      1   \n",
       "4                           Allen, Mr. William Henry    male  35.0      0   \n",
       "\n",
       "   Parch            Ticket     Fare Cabin Embarked  \n",
       "0      0         A/5 21171   7.2500   NaN        S  \n",
       "1      0          PC 17599  71.2833   C85        C  \n",
       "2      0  STON/O2. 3101282   7.9250   NaN        S  \n",
       "3      0            113803  53.1000  C123        S  \n",
       "4      0            373450   8.0500   NaN        S  "
      ]
     },
     "execution_count": 6,
     "metadata": {},
     "output_type": "execute_result"
    }
   ],
   "source": [
    "data_all.head()"
   ]
  },
  {
   "cell_type": "code",
   "execution_count": 7,
   "id": "f207b5d2",
   "metadata": {},
   "outputs": [
    {
     "name": "stdout",
     "output_type": "stream",
     "text": [
      "<class 'pandas.core.frame.DataFrame'>\n",
      "RangeIndex: 1309 entries, 0 to 1308\n",
      "Data columns (total 12 columns):\n",
      " #   Column       Non-Null Count  Dtype  \n",
      "---  ------       --------------  -----  \n",
      " 0   PassengerId  1309 non-null   int64  \n",
      " 1   Survived     891 non-null    float64\n",
      " 2   Pclass       1309 non-null   int64  \n",
      " 3   Name         1309 non-null   object \n",
      " 4   Sex          1309 non-null   object \n",
      " 5   Age          1046 non-null   float64\n",
      " 6   SibSp        1309 non-null   int64  \n",
      " 7   Parch        1309 non-null   int64  \n",
      " 8   Ticket       1309 non-null   object \n",
      " 9   Fare         1308 non-null   float64\n",
      " 10  Cabin        295 non-null    object \n",
      " 11  Embarked     1307 non-null   object \n",
      "dtypes: float64(3), int64(4), object(5)\n",
      "memory usage: 122.8+ KB\n"
     ]
    }
   ],
   "source": [
    "data_all.info()"
   ]
  },
  {
   "cell_type": "markdown",
   "id": "7e68caf4",
   "metadata": {},
   "source": [
    "## 1. Смотрим на данные"
   ]
  },
  {
   "cell_type": "code",
   "execution_count": 8,
   "id": "1913d9bf",
   "metadata": {},
   "outputs": [
    {
     "data": {
      "text/html": [
       "<div>\n",
       "<style scoped>\n",
       "    .dataframe tbody tr th:only-of-type {\n",
       "        vertical-align: middle;\n",
       "    }\n",
       "\n",
       "    .dataframe tbody tr th {\n",
       "        vertical-align: top;\n",
       "    }\n",
       "\n",
       "    .dataframe thead th {\n",
       "        text-align: right;\n",
       "    }\n",
       "</style>\n",
       "<table border=\"1\" class=\"dataframe\">\n",
       "  <thead>\n",
       "    <tr style=\"text-align: right;\">\n",
       "      <th></th>\n",
       "      <th>Пустоты</th>\n",
       "    </tr>\n",
       "  </thead>\n",
       "  <tbody>\n",
       "    <tr>\n",
       "      <th>Cabin</th>\n",
       "      <td>1014</td>\n",
       "    </tr>\n",
       "    <tr>\n",
       "      <th>Age</th>\n",
       "      <td>263</td>\n",
       "    </tr>\n",
       "    <tr>\n",
       "      <th>Embarked</th>\n",
       "      <td>2</td>\n",
       "    </tr>\n",
       "    <tr>\n",
       "      <th>Fare</th>\n",
       "      <td>1</td>\n",
       "    </tr>\n",
       "  </tbody>\n",
       "</table>\n",
       "</div>"
      ],
      "text/plain": [
       "          Пустоты\n",
       "Cabin        1014\n",
       "Age           263\n",
       "Embarked        2\n",
       "Fare            1"
      ]
     },
     "execution_count": 8,
     "metadata": {},
     "output_type": "execute_result"
    }
   ],
   "source": [
    "# проверим количество пустых значений\n",
    "data_nan = pd.DataFrame(data_all.isnull().sum(), columns=['Пустоты']).sort_values(by='Пустоты', ascending=False)\n",
    "data_nan = data_nan[(data_nan['Пустоты'] != 0) & (data_nan.index != 'Survived')]\n",
    "data_nan"
   ]
  },
  {
   "cell_type": "code",
   "execution_count": 9,
   "id": "a5dddec4",
   "metadata": {},
   "outputs": [
    {
     "name": "stdout",
     "output_type": "stream",
     "text": [
      "Список количесвтенных переменных - ['PassengerId', 'Name', 'Age', 'Ticket', 'Fare', 'Cabin']\n",
      "Список порядкорвых переменных - ['Survived', 'Pclass', 'Sex', 'SibSp', 'Parch', 'Embarked']\n"
     ]
    }
   ],
   "source": [
    "numeric_feature = []\n",
    "ordinal_feature = []\n",
    "\n",
    "for col in data_all.columns:\n",
    "    if data_all[col].nunique() >= 10:\n",
    "        numeric_feature.append(col)\n",
    "    else:\n",
    "        ordinal_feature.append(col)\n",
    "print(f'Список количесвтенных переменных - {numeric_feature}')\n",
    "print(f'Список порядкорвых переменных - {ordinal_feature}')\n",
    "\n",
    "# Интуитивно мы можем поправить эти списки"
   ]
  },
  {
   "cell_type": "code",
   "execution_count": 10,
   "id": "a5d8d95e",
   "metadata": {},
   "outputs": [],
   "source": [
    "numeric_feature = ['Age', 'Fare']\n",
    "categorical_feature = ['Ticket', 'Cabin']\n",
    "ordinal_feature = ['Survived', 'Pclass', 'Sex', 'SibSp', 'Parch', 'Embarked']"
   ]
  },
  {
   "cell_type": "code",
   "execution_count": 11,
   "id": "19d5208b",
   "metadata": {},
   "outputs": [
    {
     "data": {
      "image/png": "[encoded data removed]",
      "text/plain": [
       "<Figure size 1440x1440 with 6 Axes>"
      ]
     },
     "metadata": {
      "needs_background": "light"
     },
     "output_type": "display_data"
    }
   ],
   "source": [
    "# График категориальных признаков для тернировочного набора данных (на трейне можно поделить на выживших и нет)\n",
    "\n",
    "fig, axs = plt.subplots(ncols=2, nrows=3, figsize=(20, 20))\n",
    "plt.subplots_adjust(right=1.5, top=1.25)\n",
    "\n",
    "for i, feature in enumerate(ordinal_feature):\n",
    "    plt.subplot(2, 3, i+1)\n",
    "    \n",
    "    if feature == 'Survived':\n",
    "        sns.countplot(x=data_train[feature], data=data_train)\n",
    "        plt.title('Survived in train', size=20, y=1.05)\n",
    "    else:\n",
    "        sns.countplot(x=data_train[feature], hue='Survived', data=data_train)\n",
    "        plt.title(feature, size=20, y=1.05)\n",
    "    \n",
    "    plt.xlabel('{}'.format(feature), size=20, labelpad=15)\n",
    "    plt.ylabel('Count', size=20, labelpad=15)    \n",
    "    plt.tick_params(axis='x', labelsize=20)\n",
    "    plt.tick_params(axis='y', labelsize=20)"
   ]
  },
  {
   "cell_type": "code",
   "execution_count": 12,
   "id": "22840ad3",
   "metadata": {},
   "outputs": [
    {
     "data": {
      "image/png": "[encoded data removed]",
      "text/plain": [
       "<Figure size 1440x1440 with 6 Axes>"
      ]
     },
     "metadata": {
      "needs_background": "light"
     },
     "output_type": "display_data"
    }
   ],
   "source": [
    "# График категориальных признаков для полного набора данных\n",
    "\n",
    "fig, axs = plt.subplots(ncols=2, nrows=3, figsize=(20, 20))\n",
    "plt.subplots_adjust(right=1.5, top=1.25)\n",
    "\n",
    "for i, feature in enumerate(ordinal_feature):\n",
    "    plt.subplot(2, 3, i+1)\n",
    "    \n",
    "    if feature == 'Survived':\n",
    "        sns.countplot(x=data_all[feature], data=data_all)\n",
    "        plt.title('Survived in train', size=20, y=1.05)\n",
    "    else:\n",
    "        sns.countplot(x=data_all[feature], data=data_all)\n",
    "        plt.title(feature, size=20, y=1.05)\n",
    "    \n",
    "    plt.xlabel('{}'.format(feature), size=20, labelpad=15)\n",
    "    plt.ylabel('Count', size=20, labelpad=15)    \n",
    "    plt.tick_params(axis='x', labelsize=20)\n",
    "    plt.tick_params(axis='y', labelsize=20)"
   ]
  },
  {
   "cell_type": "code",
   "execution_count": 13,
   "id": "3d4efb61",
   "metadata": {},
   "outputs": [],
   "source": [
    "# По категориям можно утверждать:\n",
    "# 1. Заполнять ли кабины, и чем заполнить остальное\n",
    "# 2. В тренировочном наборе погибших больше, чем выжившх - надо будет перемешать пропорционально\n",
    "# 3. 1 класс - выживает хорошо, 2 - средне, 3 - очень плохо\n",
    "# 4. женщины выживают лучше мужчин\n",
    "# 5. два столбца по сути содержат одну информацию их лучше рассматривать вместе\n",
    "# 6. Порт погрузки как-будто бы влияет на выживаемость, но интуитивно это не очень объяснимо"
   ]
  },
  {
   "cell_type": "markdown",
   "id": "2fb3c60f",
   "metadata": {},
   "source": [
    "## 2. Заполняем пустоты\n",
    "\n",
    "### 2.1 Кабины - как итог заменить столбец 0 - признаком отсутствия данных, 1 - выживающие палубы, 2 - плохо-выживающие "
   ]
  },
  {
   "cell_type": "code",
   "execution_count": 14,
   "id": "3cc6b719",
   "metadata": {},
   "outputs": [],
   "source": [
    "data_for_dif_Cabin = data_train.copy()\n",
    "data_for_dif_Cabin['Deck'] = data_for_dif_Cabin['Cabin'].apply(lambda s: s[0] if pd.notnull(s) else 'Нет_данных')"
   ]
  },
  {
   "cell_type": "code",
   "execution_count": 15,
   "id": "9bdbde19",
   "metadata": {},
   "outputs": [
    {
     "data": {
      "text/html": [
       "<div>\n",
       "<style scoped>\n",
       "    .dataframe tbody tr th:only-of-type {\n",
       "        vertical-align: middle;\n",
       "    }\n",
       "\n",
       "    .dataframe tbody tr th {\n",
       "        vertical-align: top;\n",
       "    }\n",
       "\n",
       "    .dataframe thead th {\n",
       "        text-align: right;\n",
       "    }\n",
       "</style>\n",
       "<table border=\"1\" class=\"dataframe\">\n",
       "  <thead>\n",
       "    <tr style=\"text-align: right;\">\n",
       "      <th></th>\n",
       "      <th>PassengerId</th>\n",
       "      <th>Survived</th>\n",
       "      <th>Pclass</th>\n",
       "      <th>Name</th>\n",
       "      <th>Sex</th>\n",
       "      <th>Age</th>\n",
       "      <th>SibSp</th>\n",
       "      <th>Parch</th>\n",
       "      <th>Ticket</th>\n",
       "      <th>Fare</th>\n",
       "      <th>Cabin</th>\n",
       "      <th>Embarked</th>\n",
       "      <th>Deck</th>\n",
       "    </tr>\n",
       "  </thead>\n",
       "  <tbody>\n",
       "    <tr>\n",
       "      <th>0</th>\n",
       "      <td>1</td>\n",
       "      <td>0</td>\n",
       "      <td>3</td>\n",
       "      <td>Braund, Mr. Owen Harris</td>\n",
       "      <td>male</td>\n",
       "      <td>22.0</td>\n",
       "      <td>1</td>\n",
       "      <td>0</td>\n",
       "      <td>A/5 21171</td>\n",
       "      <td>7.2500</td>\n",
       "      <td>NaN</td>\n",
       "      <td>S</td>\n",
       "      <td>Нет_данных</td>\n",
       "    </tr>\n",
       "    <tr>\n",
       "      <th>1</th>\n",
       "      <td>2</td>\n",
       "      <td>1</td>\n",
       "      <td>1</td>\n",
       "      <td>Cumings, Mrs. John Bradley (Florence Briggs Th...</td>\n",
       "      <td>female</td>\n",
       "      <td>38.0</td>\n",
       "      <td>1</td>\n",
       "      <td>0</td>\n",
       "      <td>PC 17599</td>\n",
       "      <td>71.2833</td>\n",
       "      <td>C85</td>\n",
       "      <td>C</td>\n",
       "      <td>C</td>\n",
       "    </tr>\n",
       "    <tr>\n",
       "      <th>2</th>\n",
       "      <td>3</td>\n",
       "      <td>1</td>\n",
       "      <td>3</td>\n",
       "      <td>Heikkinen, Miss. Laina</td>\n",
       "      <td>female</td>\n",
       "      <td>26.0</td>\n",
       "      <td>0</td>\n",
       "      <td>0</td>\n",
       "      <td>STON/O2. 3101282</td>\n",
       "      <td>7.9250</td>\n",
       "      <td>NaN</td>\n",
       "      <td>S</td>\n",
       "      <td>Нет_данных</td>\n",
       "    </tr>\n",
       "    <tr>\n",
       "      <th>3</th>\n",
       "      <td>4</td>\n",
       "      <td>1</td>\n",
       "      <td>1</td>\n",
       "      <td>Futrelle, Mrs. Jacques Heath (Lily May Peel)</td>\n",
       "      <td>female</td>\n",
       "      <td>35.0</td>\n",
       "      <td>1</td>\n",
       "      <td>0</td>\n",
       "      <td>113803</td>\n",
       "      <td>53.1000</td>\n",
       "      <td>C123</td>\n",
       "      <td>S</td>\n",
       "      <td>C</td>\n",
       "    </tr>\n",
       "    <tr>\n",
       "      <th>4</th>\n",
       "      <td>5</td>\n",
       "      <td>0</td>\n",
       "      <td>3</td>\n",
       "      <td>Allen, Mr. William Henry</td>\n",
       "      <td>male</td>\n",
       "      <td>35.0</td>\n",
       "      <td>0</td>\n",
       "      <td>0</td>\n",
       "      <td>373450</td>\n",
       "      <td>8.0500</td>\n",
       "      <td>NaN</td>\n",
       "      <td>S</td>\n",
       "      <td>Нет_данных</td>\n",
       "    </tr>\n",
       "  </tbody>\n",
       "</table>\n",
       "</div>"
      ],
      "text/plain": [
       "   PassengerId  Survived  Pclass  \\\n",
       "0            1         0       3   \n",
       "1            2         1       1   \n",
       "2            3         1       3   \n",
       "3            4         1       1   \n",
       "4            5         0       3   \n",
       "\n",
       "                                                Name     Sex   Age  SibSp  \\\n",
       "0                            Braund, Mr. Owen Harris    male  22.0      1   \n",
       "1  Cumings, Mrs. John Bradley (Florence Briggs Th...  female  38.0      1   \n",
       "2                             Heikkinen, Miss. Laina  female  26.0      0   \n",
       "3       Futrelle, Mrs. Jacques Heath (Lily May Peel)  female  35.0      1   \n",
       "4                           Allen, Mr. William Henry    male  35.0      0   \n",
       "\n",
       "   Parch            Ticket     Fare Cabin Embarked        Deck  \n",
       "0      0         A/5 21171   7.2500   NaN        S  Нет_данных  \n",
       "1      0          PC 17599  71.2833   C85        C           C  \n",
       "2      0  STON/O2. 3101282   7.9250   NaN        S  Нет_данных  \n",
       "3      0            113803  53.1000  C123        S           C  \n",
       "4      0            373450   8.0500   NaN        S  Нет_данных  "
      ]
     },
     "execution_count": 15,
     "metadata": {},
     "output_type": "execute_result"
    }
   ],
   "source": [
    "data_for_dif_Cabin.head()"
   ]
  },
  {
   "cell_type": "code",
   "execution_count": 16,
   "id": "961b4277",
   "metadata": {},
   "outputs": [
    {
     "data": {
      "text/plain": [
       "<AxesSubplot:xlabel='Deck', ylabel='count'>"
      ]
     },
     "execution_count": 16,
     "metadata": {},
     "output_type": "execute_result"
    },
    {
     "data": {
      "image/png": "[encoded data removed]",
      "text/plain": [
       "<Figure size 432x288 with 1 Axes>"
      ]
     },
     "metadata": {
      "needs_background": "light"
     },
     "output_type": "display_data"
    }
   ],
   "source": [
    "# Видим, что в тренировочном наборе люди, для которых кабина известна выживают чаще, тогда добавим признак наличия данных\n",
    "sns.countplot(x=data_for_dif_Cabin.Deck, hue=data_for_dif_Cabin.Survived, data=data_for_dif_Cabin)"
   ]
  },
  {
   "cell_type": "code",
   "execution_count": 17,
   "id": "f1d12ebd",
   "metadata": {},
   "outputs": [],
   "source": [
    "data_for_dif_Cabin['Deck'] = data_for_dif_Cabin['Deck'].map({'Нет_данных': 0,\n",
    "                                         'C': 1,\n",
    "                                         'E': 1,\n",
    "                                         'D': 1,\n",
    "                                         'B': 1,\n",
    "                                         'F': 1,\n",
    "                                         'G': 2,\n",
    "                                         'A': 2,\n",
    "                                         'T': 2})"
   ]
  },
  {
   "cell_type": "code",
   "execution_count": 18,
   "id": "836d06a6",
   "metadata": {},
   "outputs": [
    {
     "data": {
      "text/plain": [
       "<AxesSubplot:xlabel='Deck', ylabel='count'>"
      ]
     },
     "execution_count": 18,
     "metadata": {},
     "output_type": "execute_result"
    },
    {
     "data": {
      "image/png": "[encoded data removed]",
      "text/plain": [
       "<Figure size 432x288 with 1 Axes>"
      ]
     },
     "metadata": {
      "needs_background": "light"
     },
     "output_type": "display_data"
    }
   ],
   "source": [
    "sns.countplot(x=data_for_dif_Cabin.Deck, hue=data_for_dif_Cabin.Survived, data=data_for_dif_Cabin)"
   ]
  },
  {
   "cell_type": "code",
   "execution_count": 19,
   "id": "1ade85d9",
   "metadata": {},
   "outputs": [
    {
     "data": {
      "text/plain": [
       "0    687\n",
       "1    184\n",
       "2     20\n",
       "Name: Deck, dtype: int64"
      ]
     },
     "execution_count": 19,
     "metadata": {},
     "output_type": "execute_result"
    }
   ],
   "source": [
    "data_for_dif_Cabin.Deck.value_counts()"
   ]
  },
  {
   "cell_type": "markdown",
   "id": "6a4e792d",
   "metadata": {},
   "source": [
    "### 2.2 Возраст - как итог заполняем медианой по классу"
   ]
  },
  {
   "cell_type": "code",
   "execution_count": 20,
   "id": "b05669b7",
   "metadata": {},
   "outputs": [
    {
     "data": {
      "text/plain": [
       "Text(0.5, 1.0, 'Распределение возраста в тестовом наборе')"
      ]
     },
     "execution_count": 20,
     "metadata": {},
     "output_type": "execute_result"
    },
    {
     "data": {
      "image/png": "[encoded data removed]",
      "text/plain": [
       "<Figure size 1080x504 with 2 Axes>"
      ]
     },
     "metadata": {
      "needs_background": "light"
     },
     "output_type": "display_data"
    }
   ],
   "source": [
    "fig, axs = plt.subplots(figsize=(15, 7))\n",
    "\n",
    "plt.subplot(1, 2, 1)\n",
    "data_train.Age.hist(bins=20)\n",
    "plt.title('Распределение возраста в тренировочном наборе')\n",
    "\n",
    "plt.subplot(1, 2, 2)\n",
    "data_test.Age.hist(bins=20)\n",
    "plt.title('Распределение возраста в тестовом наборе')\n"
   ]
  },
  {
   "cell_type": "code",
   "execution_count": 21,
   "id": "e046c6bf",
   "metadata": {},
   "outputs": [
    {
     "data": {
      "text/plain": [
       "Text(0.5, 1.0, 'Расп-е возраста в третьем классе - test')"
      ]
     },
     "execution_count": 21,
     "metadata": {},
     "output_type": "execute_result"
    },
    {
     "data": {
      "image/png": "[encoded data removed]",
      "text/plain": [
       "<Figure size 1080x504 with 6 Axes>"
      ]
     },
     "metadata": {
      "needs_background": "light"
     },
     "output_type": "display_data"
    }
   ],
   "source": [
    "# Можно сказать, что распределение возраста примерно одинаковое по классам для трейна и теста\n",
    "fig, axs = plt.subplots(figsize=(15, 7))\n",
    "\n",
    "plt.subplot(2, 3, 1)\n",
    "data_train[data_train['Pclass'] == 1].Age.hist(bins=20)\n",
    "plt.title('Расп-е возраста в первом классе - train')\n",
    "\n",
    "plt.subplot(2, 3, 2)\n",
    "data_train[data_train['Pclass'] == 2].Age.hist(bins=20)\n",
    "plt.title('Расп-е возраста во втором классе - train')\n",
    "\n",
    "plt.subplot(2, 3, 3)\n",
    "data_train[data_train['Pclass'] == 3].Age.hist(bins=20)\n",
    "plt.title('Расп-е возраста в третьем классе - train')\n",
    "\n",
    "plt.subplot(2, 3, 4)\n",
    "data_test[data_test['Pclass'] == 1].Age.hist(bins=20)\n",
    "plt.title('Расп-е возраста в первом классе - test')\n",
    "\n",
    "plt.subplot(2, 3, 5)\n",
    "data_test[data_test['Pclass'] == 2].Age.hist(bins=20)\n",
    "plt.title('Расп-е возраста во втором классе - test')\n",
    "\n",
    "plt.subplot(2, 3, 6)\n",
    "data_test[data_test['Pclass'] == 3].Age.hist(bins=20)\n",
    "plt.title('Расп-е возраста в третьем классе - test')"
   ]
  },
  {
   "cell_type": "markdown",
   "id": "12dcaf62",
   "metadata": {},
   "source": [
    "### 2.3 Тариф - как итог заполнить медианой по классу"
   ]
  },
  {
   "cell_type": "code",
   "execution_count": 22,
   "id": "09d2ef38",
   "metadata": {},
   "outputs": [
    {
     "data": {
      "text/plain": [
       "Text(0.5, 1.0, 'Расп-е тарифа в третьем классе - test')"
      ]
     },
     "execution_count": 22,
     "metadata": {},
     "output_type": "execute_result"
    },
    {
     "data": {
      "image/png": "[encoded data removed]",
      "text/plain": [
       "<Figure size 1080x504 with 6 Axes>"
      ]
     },
     "metadata": {
      "needs_background": "light"
     },
     "output_type": "display_data"
    }
   ],
   "source": [
    "fig, axs = plt.subplots(figsize=(15, 7))\n",
    "\n",
    "plt.subplot(2, 3, 1)\n",
    "data_train[data_train['Pclass'] == 1].Fare.hist(bins=20)\n",
    "plt.title('Расп-е тарифа в первом классе - train')\n",
    "\n",
    "plt.subplot(2, 3, 2)\n",
    "data_train[data_train['Pclass'] == 2].Fare.hist(bins=20)\n",
    "plt.title('Расп-е тарифа во втором классе - train')\n",
    "\n",
    "plt.subplot(2, 3, 3)\n",
    "data_train[data_train['Pclass'] == 3].Fare.hist(bins=20)\n",
    "plt.title('Расп-е тарифа в третьем классе - train')\n",
    "\n",
    "plt.subplot(2, 3, 4)\n",
    "data_test[data_test['Pclass'] == 1].Fare.hist(bins=20)\n",
    "plt.title('Расп-е тарифа в первом классе - test')\n",
    "\n",
    "plt.subplot(2, 3, 5)\n",
    "data_test[data_test['Pclass'] == 2].Fare.hist(bins=20)\n",
    "plt.title('Расп-е тарифа во втором классе - test')\n",
    "\n",
    "plt.subplot(2, 3, 6)\n",
    "data_test[data_test['Pclass'] == 3].Fare.hist(bins=20)\n",
    "plt.title('Расп-е тарифа в третьем классе - test')"
   ]
  },
  {
   "cell_type": "code",
   "execution_count": 23,
   "id": "941c186d",
   "metadata": {},
   "outputs": [
    {
     "data": {
      "text/html": [
       "<div>\n",
       "<style scoped>\n",
       "    .dataframe tbody tr th:only-of-type {\n",
       "        vertical-align: middle;\n",
       "    }\n",
       "\n",
       "    .dataframe tbody tr th {\n",
       "        vertical-align: top;\n",
       "    }\n",
       "\n",
       "    .dataframe thead th {\n",
       "        text-align: right;\n",
       "    }\n",
       "</style>\n",
       "<table border=\"1\" class=\"dataframe\">\n",
       "  <thead>\n",
       "    <tr style=\"text-align: right;\">\n",
       "      <th></th>\n",
       "      <th>Age</th>\n",
       "      <th>Fare</th>\n",
       "    </tr>\n",
       "    <tr>\n",
       "      <th>Pclass</th>\n",
       "      <th></th>\n",
       "      <th></th>\n",
       "    </tr>\n",
       "  </thead>\n",
       "  <tbody>\n",
       "    <tr>\n",
       "      <th>1</th>\n",
       "      <td>37.0</td>\n",
       "      <td>60.2875</td>\n",
       "    </tr>\n",
       "    <tr>\n",
       "      <th>2</th>\n",
       "      <td>29.0</td>\n",
       "      <td>14.2500</td>\n",
       "    </tr>\n",
       "    <tr>\n",
       "      <th>3</th>\n",
       "      <td>24.0</td>\n",
       "      <td>8.0500</td>\n",
       "    </tr>\n",
       "  </tbody>\n",
       "</table>\n",
       "</div>"
      ],
      "text/plain": [
       "         Age     Fare\n",
       "Pclass               \n",
       "1       37.0  60.2875\n",
       "2       29.0  14.2500\n",
       "3       24.0   8.0500"
      ]
     },
     "execution_count": 23,
     "metadata": {},
     "output_type": "execute_result"
    }
   ],
   "source": [
    "data_train.groupby('Pclass')[['Age', 'Fare']].median()"
   ]
  },
  {
   "cell_type": "markdown",
   "id": "b5c8f382",
   "metadata": {},
   "source": [
    "### 2.4 Порт погрузки - как итог заменить модой"
   ]
  },
  {
   "cell_type": "code",
   "execution_count": 24,
   "id": "98793f93",
   "metadata": {},
   "outputs": [
    {
     "data": {
      "text/plain": [
       "S    914\n",
       "C    270\n",
       "Q    123\n",
       "Name: Embarked, dtype: int64"
      ]
     },
     "execution_count": 24,
     "metadata": {},
     "output_type": "execute_result"
    }
   ],
   "source": [
    "data_all.Embarked.value_counts()"
   ]
  },
  {
   "cell_type": "markdown",
   "id": "2c648168",
   "metadata": {},
   "source": [
    "### 2.5 Члены семьи - как итог сложить два столбца и поделить на группы"
   ]
  },
  {
   "cell_type": "code",
   "execution_count": 25,
   "id": "a9b46984",
   "metadata": {},
   "outputs": [],
   "source": [
    "data_train_family = data_train.copy()"
   ]
  },
  {
   "cell_type": "code",
   "execution_count": 26,
   "id": "e07614eb",
   "metadata": {},
   "outputs": [
    {
     "data": {
      "text/plain": [
       "<AxesSubplot:xlabel='SibSp', ylabel='count'>"
      ]
     },
     "execution_count": 26,
     "metadata": {},
     "output_type": "execute_result"
    },
    {
     "data": {
      "image/png": "[encoded data removed]",
      "text/plain": [
       "<Figure size 432x288 with 1 Axes>"
      ]
     },
     "metadata": {
      "needs_background": "light"
     },
     "output_type": "display_data"
    }
   ],
   "source": [
    "# выживание в зависимости от количества братьев и сестер\n",
    "sns.countplot(x=data_train_family['SibSp'], hue=data_train_family['Survived'], data=data_train_family)"
   ]
  },
  {
   "cell_type": "code",
   "execution_count": 27,
   "id": "e1307df1",
   "metadata": {},
   "outputs": [
    {
     "data": {
      "text/plain": [
       "<AxesSubplot:xlabel='Parch', ylabel='count'>"
      ]
     },
     "execution_count": 27,
     "metadata": {},
     "output_type": "execute_result"
    },
    {
     "data": {
      "image/png": "[encoded data removed]",
      "text/plain": [
       "<Figure size 432x288 with 1 Axes>"
      ]
     },
     "metadata": {
      "needs_background": "light"
     },
     "output_type": "display_data"
    }
   ],
   "source": [
    "# выживание в зависимости от количества родителей и детей\n",
    "sns.countplot(x=data_train_family['Parch'], hue=data_train_family['Survived'], data=data_train_family)"
   ]
  },
  {
   "cell_type": "code",
   "execution_count": 28,
   "id": "f22fe928",
   "metadata": {},
   "outputs": [],
   "source": [
    "data_train_family['Family_size'] = data_train_family['Parch'] + data_train_family['SibSp']"
   ]
  },
  {
   "cell_type": "code",
   "execution_count": 29,
   "id": "2d412742",
   "metadata": {},
   "outputs": [
    {
     "data": {
      "text/plain": [
       "<AxesSubplot:xlabel='Family_size', ylabel='count'>"
      ]
     },
     "execution_count": 29,
     "metadata": {},
     "output_type": "execute_result"
    },
    {
     "data": {
      "image/png": "[encoded data removed]",
      "text/plain": [
       "<Figure size 432x288 with 1 Axes>"
      ]
     },
     "metadata": {
      "needs_background": "light"
     },
     "output_type": "display_data"
    }
   ],
   "source": [
    "sns.countplot(x=data_train_family['Family_size'], hue=data_train['Survived'], data=data_train)"
   ]
  },
  {
   "cell_type": "code",
   "execution_count": 30,
   "id": "fbb61d7a",
   "metadata": {},
   "outputs": [],
   "source": [
    "data_train_family['Family_size'] = np.where(data_train_family['Family_size'] == 0, 0,\n",
    "                                             np.where(data_train_family['Family_size'] <= 3, 1,\n",
    "                                                      np.where(data_train_family['Family_size'] <= 6, 2, 3)))"
   ]
  },
  {
   "cell_type": "code",
   "execution_count": 31,
   "id": "22f51630",
   "metadata": {},
   "outputs": [
    {
     "data": {
      "text/plain": [
       "0    537\n",
       "1    292\n",
       "2     49\n",
       "3     13\n",
       "Name: Family_size, dtype: int64"
      ]
     },
     "execution_count": 31,
     "metadata": {},
     "output_type": "execute_result"
    }
   ],
   "source": [
    "data_train_family['Family_size'].value_counts()"
   ]
  },
  {
   "cell_type": "code",
   "execution_count": 32,
   "id": "872905a0",
   "metadata": {},
   "outputs": [
    {
     "data": {
      "text/plain": [
       "<AxesSubplot:xlabel='Family_size', ylabel='count'>"
      ]
     },
     "execution_count": 32,
     "metadata": {},
     "output_type": "execute_result"
    },
    {
     "data": {
      "image/png": "[encoded data removed]",
      "text/plain": [
       "<Figure size 432x288 with 1 Axes>"
      ]
     },
     "metadata": {
      "needs_background": "light"
     },
     "output_type": "display_data"
    }
   ],
   "source": [
    "sns.countplot(x=data_train_family['Family_size'], hue=data_train['Survived'], data=data_train)"
   ]
  },
  {
   "cell_type": "markdown",
   "id": "52021e96",
   "metadata": {},
   "source": [
    "### 2.6 Столбец имя - не несет информации. Билет - разобьем на группы по количеству пассажиров, едущих по билету."
   ]
  },
  {
   "cell_type": "code",
   "execution_count": 33,
   "id": "7e91e865",
   "metadata": {},
   "outputs": [
    {
     "data": {
      "text/html": [
       "<div>\n",
       "<style scoped>\n",
       "    .dataframe tbody tr th:only-of-type {\n",
       "        vertical-align: middle;\n",
       "    }\n",
       "\n",
       "    .dataframe tbody tr th {\n",
       "        vertical-align: top;\n",
       "    }\n",
       "\n",
       "    .dataframe thead th {\n",
       "        text-align: right;\n",
       "    }\n",
       "</style>\n",
       "<table border=\"1\" class=\"dataframe\">\n",
       "  <thead>\n",
       "    <tr style=\"text-align: right;\">\n",
       "      <th></th>\n",
       "      <th>PassengerId</th>\n",
       "      <th>Survived</th>\n",
       "      <th>Pclass</th>\n",
       "      <th>Name</th>\n",
       "      <th>Sex</th>\n",
       "      <th>Age</th>\n",
       "      <th>SibSp</th>\n",
       "      <th>Parch</th>\n",
       "      <th>Ticket</th>\n",
       "      <th>Fare</th>\n",
       "      <th>Cabin</th>\n",
       "      <th>Embarked</th>\n",
       "      <th>Family_size</th>\n",
       "    </tr>\n",
       "  </thead>\n",
       "  <tbody>\n",
       "    <tr>\n",
       "      <th>74</th>\n",
       "      <td>75</td>\n",
       "      <td>1</td>\n",
       "      <td>3</td>\n",
       "      <td>Bing, Mr. Lee</td>\n",
       "      <td>male</td>\n",
       "      <td>32.0</td>\n",
       "      <td>0</td>\n",
       "      <td>0</td>\n",
       "      <td>1601</td>\n",
       "      <td>56.4958</td>\n",
       "      <td>NaN</td>\n",
       "      <td>S</td>\n",
       "      <td>0</td>\n",
       "    </tr>\n",
       "    <tr>\n",
       "      <th>169</th>\n",
       "      <td>170</td>\n",
       "      <td>0</td>\n",
       "      <td>3</td>\n",
       "      <td>Ling, Mr. Lee</td>\n",
       "      <td>male</td>\n",
       "      <td>28.0</td>\n",
       "      <td>0</td>\n",
       "      <td>0</td>\n",
       "      <td>1601</td>\n",
       "      <td>56.4958</td>\n",
       "      <td>NaN</td>\n",
       "      <td>S</td>\n",
       "      <td>0</td>\n",
       "    </tr>\n",
       "    <tr>\n",
       "      <th>509</th>\n",
       "      <td>510</td>\n",
       "      <td>1</td>\n",
       "      <td>3</td>\n",
       "      <td>Lang, Mr. Fang</td>\n",
       "      <td>male</td>\n",
       "      <td>26.0</td>\n",
       "      <td>0</td>\n",
       "      <td>0</td>\n",
       "      <td>1601</td>\n",
       "      <td>56.4958</td>\n",
       "      <td>NaN</td>\n",
       "      <td>S</td>\n",
       "      <td>0</td>\n",
       "    </tr>\n",
       "    <tr>\n",
       "      <th>643</th>\n",
       "      <td>644</td>\n",
       "      <td>1</td>\n",
       "      <td>3</td>\n",
       "      <td>Foo, Mr. Choong</td>\n",
       "      <td>male</td>\n",
       "      <td>NaN</td>\n",
       "      <td>0</td>\n",
       "      <td>0</td>\n",
       "      <td>1601</td>\n",
       "      <td>56.4958</td>\n",
       "      <td>NaN</td>\n",
       "      <td>S</td>\n",
       "      <td>0</td>\n",
       "    </tr>\n",
       "    <tr>\n",
       "      <th>692</th>\n",
       "      <td>693</td>\n",
       "      <td>1</td>\n",
       "      <td>3</td>\n",
       "      <td>Lam, Mr. Ali</td>\n",
       "      <td>male</td>\n",
       "      <td>NaN</td>\n",
       "      <td>0</td>\n",
       "      <td>0</td>\n",
       "      <td>1601</td>\n",
       "      <td>56.4958</td>\n",
       "      <td>NaN</td>\n",
       "      <td>S</td>\n",
       "      <td>0</td>\n",
       "    </tr>\n",
       "    <tr>\n",
       "      <th>826</th>\n",
       "      <td>827</td>\n",
       "      <td>0</td>\n",
       "      <td>3</td>\n",
       "      <td>Lam, Mr. Len</td>\n",
       "      <td>male</td>\n",
       "      <td>NaN</td>\n",
       "      <td>0</td>\n",
       "      <td>0</td>\n",
       "      <td>1601</td>\n",
       "      <td>56.4958</td>\n",
       "      <td>NaN</td>\n",
       "      <td>S</td>\n",
       "      <td>0</td>\n",
       "    </tr>\n",
       "    <tr>\n",
       "      <th>838</th>\n",
       "      <td>839</td>\n",
       "      <td>1</td>\n",
       "      <td>3</td>\n",
       "      <td>Chip, Mr. Chang</td>\n",
       "      <td>male</td>\n",
       "      <td>32.0</td>\n",
       "      <td>0</td>\n",
       "      <td>0</td>\n",
       "      <td>1601</td>\n",
       "      <td>56.4958</td>\n",
       "      <td>NaN</td>\n",
       "      <td>S</td>\n",
       "      <td>0</td>\n",
       "    </tr>\n",
       "  </tbody>\n",
       "</table>\n",
       "</div>"
      ],
      "text/plain": [
       "     PassengerId  Survived  Pclass             Name   Sex   Age  SibSp  Parch  \\\n",
       "74            75         1       3    Bing, Mr. Lee  male  32.0      0      0   \n",
       "169          170         0       3    Ling, Mr. Lee  male  28.0      0      0   \n",
       "509          510         1       3   Lang, Mr. Fang  male  26.0      0      0   \n",
       "643          644         1       3  Foo, Mr. Choong  male   NaN      0      0   \n",
       "692          693         1       3     Lam, Mr. Ali  male   NaN      0      0   \n",
       "826          827         0       3     Lam, Mr. Len  male   NaN      0      0   \n",
       "838          839         1       3  Chip, Mr. Chang  male  32.0      0      0   \n",
       "\n",
       "    Ticket     Fare Cabin Embarked  Family_size  \n",
       "74    1601  56.4958   NaN        S            0  \n",
       "169   1601  56.4958   NaN        S            0  \n",
       "509   1601  56.4958   NaN        S            0  \n",
       "643   1601  56.4958   NaN        S            0  \n",
       "692   1601  56.4958   NaN        S            0  \n",
       "826   1601  56.4958   NaN        S            0  \n",
       "838   1601  56.4958   NaN        S            0  "
      ]
     },
     "execution_count": 33,
     "metadata": {},
     "output_type": "execute_result"
    }
   ],
   "source": [
    "# Явно можно найти билеты, по которым едет много народу, но они не родственники\n",
    "data_train_family[(data_train_family['Family_size'] == 0) & (data_train_family['Ticket'] == '1601')]"
   ]
  },
  {
   "cell_type": "code",
   "execution_count": 34,
   "id": "ec1b63c7",
   "metadata": {},
   "outputs": [
    {
     "data": {
      "text/html": [
       "<div>\n",
       "<style scoped>\n",
       "    .dataframe tbody tr th:only-of-type {\n",
       "        vertical-align: middle;\n",
       "    }\n",
       "\n",
       "    .dataframe tbody tr th {\n",
       "        vertical-align: top;\n",
       "    }\n",
       "\n",
       "    .dataframe thead th {\n",
       "        text-align: right;\n",
       "    }\n",
       "</style>\n",
       "<table border=\"1\" class=\"dataframe\">\n",
       "  <thead>\n",
       "    <tr style=\"text-align: right;\">\n",
       "      <th></th>\n",
       "      <th>Ticket_count</th>\n",
       "      <th>Ticket</th>\n",
       "    </tr>\n",
       "  </thead>\n",
       "  <tbody>\n",
       "    <tr>\n",
       "      <th>1601</th>\n",
       "      <td>7</td>\n",
       "      <td>1601</td>\n",
       "    </tr>\n",
       "    <tr>\n",
       "      <th>347082</th>\n",
       "      <td>7</td>\n",
       "      <td>347082</td>\n",
       "    </tr>\n",
       "    <tr>\n",
       "      <th>CA. 2343</th>\n",
       "      <td>7</td>\n",
       "      <td>CA. 2343</td>\n",
       "    </tr>\n",
       "    <tr>\n",
       "      <th>347088</th>\n",
       "      <td>6</td>\n",
       "      <td>347088</td>\n",
       "    </tr>\n",
       "    <tr>\n",
       "      <th>3101295</th>\n",
       "      <td>6</td>\n",
       "      <td>3101295</td>\n",
       "    </tr>\n",
       "    <tr>\n",
       "      <th>...</th>\n",
       "      <td>...</td>\n",
       "      <td>...</td>\n",
       "    </tr>\n",
       "    <tr>\n",
       "      <th>349222</th>\n",
       "      <td>1</td>\n",
       "      <td>349222</td>\n",
       "    </tr>\n",
       "    <tr>\n",
       "      <th>370372</th>\n",
       "      <td>1</td>\n",
       "      <td>370372</td>\n",
       "    </tr>\n",
       "    <tr>\n",
       "      <th>347060</th>\n",
       "      <td>1</td>\n",
       "      <td>347060</td>\n",
       "    </tr>\n",
       "    <tr>\n",
       "      <th>244358</th>\n",
       "      <td>1</td>\n",
       "      <td>244358</td>\n",
       "    </tr>\n",
       "    <tr>\n",
       "      <th>349207</th>\n",
       "      <td>1</td>\n",
       "      <td>349207</td>\n",
       "    </tr>\n",
       "  </tbody>\n",
       "</table>\n",
       "<p>681 rows × 2 columns</p>\n",
       "</div>"
      ],
      "text/plain": [
       "          Ticket_count    Ticket\n",
       "1601                 7      1601\n",
       "347082               7    347082\n",
       "CA. 2343             7  CA. 2343\n",
       "347088               6    347088\n",
       "3101295              6   3101295\n",
       "...                ...       ...\n",
       "349222               1    349222\n",
       "370372               1    370372\n",
       "347060               1    347060\n",
       "244358               1    244358\n",
       "349207               1    349207\n",
       "\n",
       "[681 rows x 2 columns]"
      ]
     },
     "execution_count": 34,
     "metadata": {},
     "output_type": "execute_result"
    }
   ],
   "source": [
    "# надо получить столбец с количеством которое билет встречается в выборке\n",
    "\n",
    "ticket_counts = pd.DataFrame(data_train_family['Ticket'].value_counts()).rename(columns={'Ticket': 'Ticket_count'})\n",
    "ticket_counts['Ticket'] = ticket_counts.index\n",
    "ticket_counts"
   ]
  },
  {
   "cell_type": "code",
   "execution_count": 35,
   "id": "bd85eeda",
   "metadata": {},
   "outputs": [
    {
     "data": {
      "text/html": [
       "<div>\n",
       "<style scoped>\n",
       "    .dataframe tbody tr th:only-of-type {\n",
       "        vertical-align: middle;\n",
       "    }\n",
       "\n",
       "    .dataframe tbody tr th {\n",
       "        vertical-align: top;\n",
       "    }\n",
       "\n",
       "    .dataframe thead th {\n",
       "        text-align: right;\n",
       "    }\n",
       "</style>\n",
       "<table border=\"1\" class=\"dataframe\">\n",
       "  <thead>\n",
       "    <tr style=\"text-align: right;\">\n",
       "      <th></th>\n",
       "      <th>PassengerId</th>\n",
       "      <th>Survived</th>\n",
       "      <th>Pclass</th>\n",
       "      <th>Name</th>\n",
       "      <th>Sex</th>\n",
       "      <th>Age</th>\n",
       "      <th>SibSp</th>\n",
       "      <th>Parch</th>\n",
       "      <th>Ticket</th>\n",
       "      <th>Fare</th>\n",
       "      <th>Cabin</th>\n",
       "      <th>Embarked</th>\n",
       "      <th>Family_size</th>\n",
       "      <th>Ticket_count</th>\n",
       "    </tr>\n",
       "  </thead>\n",
       "  <tbody>\n",
       "    <tr>\n",
       "      <th>0</th>\n",
       "      <td>1</td>\n",
       "      <td>0</td>\n",
       "      <td>3</td>\n",
       "      <td>Braund, Mr. Owen Harris</td>\n",
       "      <td>male</td>\n",
       "      <td>22.0</td>\n",
       "      <td>1</td>\n",
       "      <td>0</td>\n",
       "      <td>A/5 21171</td>\n",
       "      <td>7.2500</td>\n",
       "      <td>NaN</td>\n",
       "      <td>S</td>\n",
       "      <td>1</td>\n",
       "      <td>1</td>\n",
       "    </tr>\n",
       "    <tr>\n",
       "      <th>1</th>\n",
       "      <td>2</td>\n",
       "      <td>1</td>\n",
       "      <td>1</td>\n",
       "      <td>Cumings, Mrs. John Bradley (Florence Briggs Th...</td>\n",
       "      <td>female</td>\n",
       "      <td>38.0</td>\n",
       "      <td>1</td>\n",
       "      <td>0</td>\n",
       "      <td>PC 17599</td>\n",
       "      <td>71.2833</td>\n",
       "      <td>C85</td>\n",
       "      <td>C</td>\n",
       "      <td>1</td>\n",
       "      <td>1</td>\n",
       "    </tr>\n",
       "    <tr>\n",
       "      <th>2</th>\n",
       "      <td>3</td>\n",
       "      <td>1</td>\n",
       "      <td>3</td>\n",
       "      <td>Heikkinen, Miss. Laina</td>\n",
       "      <td>female</td>\n",
       "      <td>26.0</td>\n",
       "      <td>0</td>\n",
       "      <td>0</td>\n",
       "      <td>STON/O2. 3101282</td>\n",
       "      <td>7.9250</td>\n",
       "      <td>NaN</td>\n",
       "      <td>S</td>\n",
       "      <td>0</td>\n",
       "      <td>1</td>\n",
       "    </tr>\n",
       "    <tr>\n",
       "      <th>3</th>\n",
       "      <td>4</td>\n",
       "      <td>1</td>\n",
       "      <td>1</td>\n",
       "      <td>Futrelle, Mrs. Jacques Heath (Lily May Peel)</td>\n",
       "      <td>female</td>\n",
       "      <td>35.0</td>\n",
       "      <td>1</td>\n",
       "      <td>0</td>\n",
       "      <td>113803</td>\n",
       "      <td>53.1000</td>\n",
       "      <td>C123</td>\n",
       "      <td>S</td>\n",
       "      <td>1</td>\n",
       "      <td>2</td>\n",
       "    </tr>\n",
       "    <tr>\n",
       "      <th>4</th>\n",
       "      <td>138</td>\n",
       "      <td>0</td>\n",
       "      <td>1</td>\n",
       "      <td>Futrelle, Mr. Jacques Heath</td>\n",
       "      <td>male</td>\n",
       "      <td>37.0</td>\n",
       "      <td>1</td>\n",
       "      <td>0</td>\n",
       "      <td>113803</td>\n",
       "      <td>53.1000</td>\n",
       "      <td>C123</td>\n",
       "      <td>S</td>\n",
       "      <td>1</td>\n",
       "      <td>2</td>\n",
       "    </tr>\n",
       "    <tr>\n",
       "      <th>...</th>\n",
       "      <td>...</td>\n",
       "      <td>...</td>\n",
       "      <td>...</td>\n",
       "      <td>...</td>\n",
       "      <td>...</td>\n",
       "      <td>...</td>\n",
       "      <td>...</td>\n",
       "      <td>...</td>\n",
       "      <td>...</td>\n",
       "      <td>...</td>\n",
       "      <td>...</td>\n",
       "      <td>...</td>\n",
       "      <td>...</td>\n",
       "      <td>...</td>\n",
       "    </tr>\n",
       "    <tr>\n",
       "      <th>886</th>\n",
       "      <td>885</td>\n",
       "      <td>0</td>\n",
       "      <td>3</td>\n",
       "      <td>Sutehall, Mr. Henry Jr</td>\n",
       "      <td>male</td>\n",
       "      <td>25.0</td>\n",
       "      <td>0</td>\n",
       "      <td>0</td>\n",
       "      <td>SOTON/OQ 392076</td>\n",
       "      <td>7.0500</td>\n",
       "      <td>NaN</td>\n",
       "      <td>S</td>\n",
       "      <td>0</td>\n",
       "      <td>1</td>\n",
       "    </tr>\n",
       "    <tr>\n",
       "      <th>887</th>\n",
       "      <td>887</td>\n",
       "      <td>0</td>\n",
       "      <td>2</td>\n",
       "      <td>Montvila, Rev. Juozas</td>\n",
       "      <td>male</td>\n",
       "      <td>27.0</td>\n",
       "      <td>0</td>\n",
       "      <td>0</td>\n",
       "      <td>211536</td>\n",
       "      <td>13.0000</td>\n",
       "      <td>NaN</td>\n",
       "      <td>S</td>\n",
       "      <td>0</td>\n",
       "      <td>1</td>\n",
       "    </tr>\n",
       "    <tr>\n",
       "      <th>888</th>\n",
       "      <td>888</td>\n",
       "      <td>1</td>\n",
       "      <td>1</td>\n",
       "      <td>Graham, Miss. Margaret Edith</td>\n",
       "      <td>female</td>\n",
       "      <td>19.0</td>\n",
       "      <td>0</td>\n",
       "      <td>0</td>\n",
       "      <td>112053</td>\n",
       "      <td>30.0000</td>\n",
       "      <td>B42</td>\n",
       "      <td>S</td>\n",
       "      <td>0</td>\n",
       "      <td>1</td>\n",
       "    </tr>\n",
       "    <tr>\n",
       "      <th>889</th>\n",
       "      <td>890</td>\n",
       "      <td>1</td>\n",
       "      <td>1</td>\n",
       "      <td>Behr, Mr. Karl Howell</td>\n",
       "      <td>male</td>\n",
       "      <td>26.0</td>\n",
       "      <td>0</td>\n",
       "      <td>0</td>\n",
       "      <td>111369</td>\n",
       "      <td>30.0000</td>\n",
       "      <td>C148</td>\n",
       "      <td>C</td>\n",
       "      <td>0</td>\n",
       "      <td>1</td>\n",
       "    </tr>\n",
       "    <tr>\n",
       "      <th>890</th>\n",
       "      <td>891</td>\n",
       "      <td>0</td>\n",
       "      <td>3</td>\n",
       "      <td>Dooley, Mr. Patrick</td>\n",
       "      <td>male</td>\n",
       "      <td>32.0</td>\n",
       "      <td>0</td>\n",
       "      <td>0</td>\n",
       "      <td>370376</td>\n",
       "      <td>7.7500</td>\n",
       "      <td>NaN</td>\n",
       "      <td>Q</td>\n",
       "      <td>0</td>\n",
       "      <td>1</td>\n",
       "    </tr>\n",
       "  </tbody>\n",
       "</table>\n",
       "<p>891 rows × 14 columns</p>\n",
       "</div>"
      ],
      "text/plain": [
       "     PassengerId  Survived  Pclass  \\\n",
       "0              1         0       3   \n",
       "1              2         1       1   \n",
       "2              3         1       3   \n",
       "3              4         1       1   \n",
       "4            138         0       1   \n",
       "..           ...       ...     ...   \n",
       "886          885         0       3   \n",
       "887          887         0       2   \n",
       "888          888         1       1   \n",
       "889          890         1       1   \n",
       "890          891         0       3   \n",
       "\n",
       "                                                  Name     Sex   Age  SibSp  \\\n",
       "0                              Braund, Mr. Owen Harris    male  22.0      1   \n",
       "1    Cumings, Mrs. John Bradley (Florence Briggs Th...  female  38.0      1   \n",
       "2                               Heikkinen, Miss. Laina  female  26.0      0   \n",
       "3         Futrelle, Mrs. Jacques Heath (Lily May Peel)  female  35.0      1   \n",
       "4                          Futrelle, Mr. Jacques Heath    male  37.0      1   \n",
       "..                                                 ...     ...   ...    ...   \n",
       "886                             Sutehall, Mr. Henry Jr    male  25.0      0   \n",
       "887                              Montvila, Rev. Juozas    male  27.0      0   \n",
       "888                       Graham, Miss. Margaret Edith  female  19.0      0   \n",
       "889                              Behr, Mr. Karl Howell    male  26.0      0   \n",
       "890                                Dooley, Mr. Patrick    male  32.0      0   \n",
       "\n",
       "     Parch            Ticket     Fare Cabin Embarked  Family_size  \\\n",
       "0        0         A/5 21171   7.2500   NaN        S            1   \n",
       "1        0          PC 17599  71.2833   C85        C            1   \n",
       "2        0  STON/O2. 3101282   7.9250   NaN        S            0   \n",
       "3        0            113803  53.1000  C123        S            1   \n",
       "4        0            113803  53.1000  C123        S            1   \n",
       "..     ...               ...      ...   ...      ...          ...   \n",
       "886      0   SOTON/OQ 392076   7.0500   NaN        S            0   \n",
       "887      0            211536  13.0000   NaN        S            0   \n",
       "888      0            112053  30.0000   B42        S            0   \n",
       "889      0            111369  30.0000  C148        C            0   \n",
       "890      0            370376   7.7500   NaN        Q            0   \n",
       "\n",
       "     Ticket_count  \n",
       "0               1  \n",
       "1               1  \n",
       "2               1  \n",
       "3               2  \n",
       "4               2  \n",
       "..            ...  \n",
       "886             1  \n",
       "887             1  \n",
       "888             1  \n",
       "889             1  \n",
       "890             1  \n",
       "\n",
       "[891 rows x 14 columns]"
      ]
     },
     "execution_count": 35,
     "metadata": {},
     "output_type": "execute_result"
    }
   ],
   "source": [
    "data_train_family_ticket = data_train_family.merge(ticket_counts, on='Ticket')\n",
    "data_train_family_ticket"
   ]
  },
  {
   "cell_type": "code",
   "execution_count": 36,
   "id": "507bd6de",
   "metadata": {},
   "outputs": [
    {
     "data": {
      "text/plain": [
       "<AxesSubplot:xlabel='Ticket_count', ylabel='count'>"
      ]
     },
     "execution_count": 36,
     "metadata": {},
     "output_type": "execute_result"
    },
    {
     "data": {
      "image/png": "[encoded data removed]",
      "text/plain": [
       "<Figure size 432x288 with 1 Axes>"
      ]
     },
     "metadata": {
      "needs_background": "light"
     },
     "output_type": "display_data"
    }
   ],
   "source": [
    "sns.countplot(x=data_train_family_ticket['Ticket_count'], \n",
    "              hue=data_train_family_ticket['Survived'], \n",
    "              data=data_train_family_ticket)"
   ]
  },
  {
   "cell_type": "code",
   "execution_count": 37,
   "id": "fb58259e",
   "metadata": {},
   "outputs": [],
   "source": [
    "data_train_family_ticket['Ticket_count'] = np.where(data_train_family_ticket['Ticket_count'] == 1, 1,\n",
    "                                             np.where(data_train_family_ticket['Ticket_count'] <= 4, 2, 3))   "
   ]
  },
  {
   "cell_type": "code",
   "execution_count": 38,
   "id": "755bdf3a",
   "metadata": {},
   "outputs": [
    {
     "data": {
      "text/plain": [
       "<AxesSubplot:xlabel='Ticket_count', ylabel='count'>"
      ]
     },
     "execution_count": 38,
     "metadata": {},
     "output_type": "execute_result"
    },
    {
     "data": {
      "image/png": "[encoded data removed]",
      "text/plain": [
       "<Figure size 432x288 with 1 Axes>"
      ]
     },
     "metadata": {
      "needs_background": "light"
     },
     "output_type": "display_data"
    }
   ],
   "source": [
    "sns.countplot(x=data_train_family_ticket['Ticket_count'], \n",
    "              hue=data_train_family_ticket['Survived'], \n",
    "              data=data_train_family_ticket)"
   ]
  },
  {
   "cell_type": "code",
   "execution_count": 39,
   "id": "eaae1ebd",
   "metadata": {},
   "outputs": [
    {
     "data": {
      "text/html": [
       "<div>\n",
       "<style scoped>\n",
       "    .dataframe tbody tr th:only-of-type {\n",
       "        vertical-align: middle;\n",
       "    }\n",
       "\n",
       "    .dataframe tbody tr th {\n",
       "        vertical-align: top;\n",
       "    }\n",
       "\n",
       "    .dataframe thead th {\n",
       "        text-align: right;\n",
       "    }\n",
       "</style>\n",
       "<table border=\"1\" class=\"dataframe\">\n",
       "  <thead>\n",
       "    <tr style=\"text-align: right;\">\n",
       "      <th></th>\n",
       "      <th>PassengerId</th>\n",
       "      <th>Survived</th>\n",
       "      <th>Pclass</th>\n",
       "      <th>Name</th>\n",
       "      <th>Sex</th>\n",
       "      <th>Age</th>\n",
       "      <th>SibSp</th>\n",
       "      <th>Parch</th>\n",
       "      <th>Ticket</th>\n",
       "      <th>Fare</th>\n",
       "      <th>Cabin</th>\n",
       "      <th>Embarked</th>\n",
       "    </tr>\n",
       "  </thead>\n",
       "  <tbody>\n",
       "    <tr>\n",
       "      <th>0</th>\n",
       "      <td>1</td>\n",
       "      <td>0.0</td>\n",
       "      <td>3</td>\n",
       "      <td>Braund, Mr. Owen Harris</td>\n",
       "      <td>male</td>\n",
       "      <td>22.0</td>\n",
       "      <td>1</td>\n",
       "      <td>0</td>\n",
       "      <td>A/5 21171</td>\n",
       "      <td>7.2500</td>\n",
       "      <td>NaN</td>\n",
       "      <td>S</td>\n",
       "    </tr>\n",
       "    <tr>\n",
       "      <th>1</th>\n",
       "      <td>2</td>\n",
       "      <td>1.0</td>\n",
       "      <td>1</td>\n",
       "      <td>Cumings, Mrs. John Bradley (Florence Briggs Th...</td>\n",
       "      <td>female</td>\n",
       "      <td>38.0</td>\n",
       "      <td>1</td>\n",
       "      <td>0</td>\n",
       "      <td>PC 17599</td>\n",
       "      <td>71.2833</td>\n",
       "      <td>C85</td>\n",
       "      <td>C</td>\n",
       "    </tr>\n",
       "    <tr>\n",
       "      <th>2</th>\n",
       "      <td>3</td>\n",
       "      <td>1.0</td>\n",
       "      <td>3</td>\n",
       "      <td>Heikkinen, Miss. Laina</td>\n",
       "      <td>female</td>\n",
       "      <td>26.0</td>\n",
       "      <td>0</td>\n",
       "      <td>0</td>\n",
       "      <td>STON/O2. 3101282</td>\n",
       "      <td>7.9250</td>\n",
       "      <td>NaN</td>\n",
       "      <td>S</td>\n",
       "    </tr>\n",
       "    <tr>\n",
       "      <th>3</th>\n",
       "      <td>4</td>\n",
       "      <td>1.0</td>\n",
       "      <td>1</td>\n",
       "      <td>Futrelle, Mrs. Jacques Heath (Lily May Peel)</td>\n",
       "      <td>female</td>\n",
       "      <td>35.0</td>\n",
       "      <td>1</td>\n",
       "      <td>0</td>\n",
       "      <td>113803</td>\n",
       "      <td>53.1000</td>\n",
       "      <td>C123</td>\n",
       "      <td>S</td>\n",
       "    </tr>\n",
       "    <tr>\n",
       "      <th>4</th>\n",
       "      <td>5</td>\n",
       "      <td>0.0</td>\n",
       "      <td>3</td>\n",
       "      <td>Allen, Mr. William Henry</td>\n",
       "      <td>male</td>\n",
       "      <td>35.0</td>\n",
       "      <td>0</td>\n",
       "      <td>0</td>\n",
       "      <td>373450</td>\n",
       "      <td>8.0500</td>\n",
       "      <td>NaN</td>\n",
       "      <td>S</td>\n",
       "    </tr>\n",
       "  </tbody>\n",
       "</table>\n",
       "</div>"
      ],
      "text/plain": [
       "   PassengerId  Survived  Pclass  \\\n",
       "0            1       0.0       3   \n",
       "1            2       1.0       1   \n",
       "2            3       1.0       3   \n",
       "3            4       1.0       1   \n",
       "4            5       0.0       3   \n",
       "\n",
       "                                                Name     Sex   Age  SibSp  \\\n",
       "0                            Braund, Mr. Owen Harris    male  22.0      1   \n",
       "1  Cumings, Mrs. John Bradley (Florence Briggs Th...  female  38.0      1   \n",
       "2                             Heikkinen, Miss. Laina  female  26.0      0   \n",
       "3       Futrelle, Mrs. Jacques Heath (Lily May Peel)  female  35.0      1   \n",
       "4                           Allen, Mr. William Henry    male  35.0      0   \n",
       "\n",
       "   Parch            Ticket     Fare Cabin Embarked  \n",
       "0      0         A/5 21171   7.2500   NaN        S  \n",
       "1      0          PC 17599  71.2833   C85        C  \n",
       "2      0  STON/O2. 3101282   7.9250   NaN        S  \n",
       "3      0            113803  53.1000  C123        S  \n",
       "4      0            373450   8.0500   NaN        S  "
      ]
     },
     "execution_count": 39,
     "metadata": {},
     "output_type": "execute_result"
    }
   ],
   "source": [
    "data_all.head()"
   ]
  },
  {
   "cell_type": "markdown",
   "id": "1b38e6a7",
   "metadata": {},
   "source": [
    "## 3. Функиця Предобработки фрейма данных"
   ]
  },
  {
   "cell_type": "code",
   "execution_count": 40,
   "id": "2638e562",
   "metadata": {},
   "outputs": [],
   "source": [
    "train = data_train.copy().drop('PassengerId', axis=1)\n",
    "test = data_test.copy().drop('PassengerId', axis=1)"
   ]
  },
  {
   "cell_type": "code",
   "execution_count": 41,
   "id": "beabf648",
   "metadata": {},
   "outputs": [
    {
     "data": {
      "text/html": [
       "<div>\n",
       "<style scoped>\n",
       "    .dataframe tbody tr th:only-of-type {\n",
       "        vertical-align: middle;\n",
       "    }\n",
       "\n",
       "    .dataframe tbody tr th {\n",
       "        vertical-align: top;\n",
       "    }\n",
       "\n",
       "    .dataframe thead th {\n",
       "        text-align: right;\n",
       "    }\n",
       "</style>\n",
       "<table border=\"1\" class=\"dataframe\">\n",
       "  <thead>\n",
       "    <tr style=\"text-align: right;\">\n",
       "      <th></th>\n",
       "      <th>PassengerId</th>\n",
       "      <th>Survived</th>\n",
       "      <th>Pclass</th>\n",
       "      <th>Name</th>\n",
       "      <th>Sex</th>\n",
       "      <th>Age</th>\n",
       "      <th>SibSp</th>\n",
       "      <th>Parch</th>\n",
       "      <th>Ticket</th>\n",
       "      <th>Fare</th>\n",
       "      <th>Cabin</th>\n",
       "      <th>Embarked</th>\n",
       "    </tr>\n",
       "  </thead>\n",
       "  <tbody>\n",
       "    <tr>\n",
       "      <th>0</th>\n",
       "      <td>1</td>\n",
       "      <td>0.0</td>\n",
       "      <td>3</td>\n",
       "      <td>Braund, Mr. Owen Harris</td>\n",
       "      <td>male</td>\n",
       "      <td>22.0</td>\n",
       "      <td>1</td>\n",
       "      <td>0</td>\n",
       "      <td>A/5 21171</td>\n",
       "      <td>7.2500</td>\n",
       "      <td>NaN</td>\n",
       "      <td>S</td>\n",
       "    </tr>\n",
       "    <tr>\n",
       "      <th>1</th>\n",
       "      <td>2</td>\n",
       "      <td>1.0</td>\n",
       "      <td>1</td>\n",
       "      <td>Cumings, Mrs. John Bradley (Florence Briggs Th...</td>\n",
       "      <td>female</td>\n",
       "      <td>38.0</td>\n",
       "      <td>1</td>\n",
       "      <td>0</td>\n",
       "      <td>PC 17599</td>\n",
       "      <td>71.2833</td>\n",
       "      <td>C85</td>\n",
       "      <td>C</td>\n",
       "    </tr>\n",
       "    <tr>\n",
       "      <th>2</th>\n",
       "      <td>3</td>\n",
       "      <td>1.0</td>\n",
       "      <td>3</td>\n",
       "      <td>Heikkinen, Miss. Laina</td>\n",
       "      <td>female</td>\n",
       "      <td>26.0</td>\n",
       "      <td>0</td>\n",
       "      <td>0</td>\n",
       "      <td>STON/O2. 3101282</td>\n",
       "      <td>7.9250</td>\n",
       "      <td>NaN</td>\n",
       "      <td>S</td>\n",
       "    </tr>\n",
       "    <tr>\n",
       "      <th>3</th>\n",
       "      <td>4</td>\n",
       "      <td>1.0</td>\n",
       "      <td>1</td>\n",
       "      <td>Futrelle, Mrs. Jacques Heath (Lily May Peel)</td>\n",
       "      <td>female</td>\n",
       "      <td>35.0</td>\n",
       "      <td>1</td>\n",
       "      <td>0</td>\n",
       "      <td>113803</td>\n",
       "      <td>53.1000</td>\n",
       "      <td>C123</td>\n",
       "      <td>S</td>\n",
       "    </tr>\n",
       "    <tr>\n",
       "      <th>4</th>\n",
       "      <td>5</td>\n",
       "      <td>0.0</td>\n",
       "      <td>3</td>\n",
       "      <td>Allen, Mr. William Henry</td>\n",
       "      <td>male</td>\n",
       "      <td>35.0</td>\n",
       "      <td>0</td>\n",
       "      <td>0</td>\n",
       "      <td>373450</td>\n",
       "      <td>8.0500</td>\n",
       "      <td>NaN</td>\n",
       "      <td>S</td>\n",
       "    </tr>\n",
       "  </tbody>\n",
       "</table>\n",
       "</div>"
      ],
      "text/plain": [
       "   PassengerId  Survived  Pclass  \\\n",
       "0            1       0.0       3   \n",
       "1            2       1.0       1   \n",
       "2            3       1.0       3   \n",
       "3            4       1.0       1   \n",
       "4            5       0.0       3   \n",
       "\n",
       "                                                Name     Sex   Age  SibSp  \\\n",
       "0                            Braund, Mr. Owen Harris    male  22.0      1   \n",
       "1  Cumings, Mrs. John Bradley (Florence Briggs Th...  female  38.0      1   \n",
       "2                             Heikkinen, Miss. Laina  female  26.0      0   \n",
       "3       Futrelle, Mrs. Jacques Heath (Lily May Peel)  female  35.0      1   \n",
       "4                           Allen, Mr. William Henry    male  35.0      0   \n",
       "\n",
       "   Parch            Ticket     Fare Cabin Embarked  \n",
       "0      0         A/5 21171   7.2500   NaN        S  \n",
       "1      0          PC 17599  71.2833   C85        C  \n",
       "2      0  STON/O2. 3101282   7.9250   NaN        S  \n",
       "3      0            113803  53.1000  C123        S  \n",
       "4      0            373450   8.0500   NaN        S  "
      ]
     },
     "execution_count": 41,
     "metadata": {},
     "output_type": "execute_result"
    }
   ],
   "source": [
    "data_all.head()"
   ]
  },
  {
   "cell_type": "code",
   "execution_count": 42,
   "id": "031659b5",
   "metadata": {},
   "outputs": [],
   "source": [
    "def preprocessing_data(data):\n",
    "    '''\n",
    "    На вход получает исходное полное множество\n",
    "    На выход дает полное множество для разделения на трейн и тест выборки\n",
    "    '''\n",
    "    # Заполняем пропуски в колонке 'кабина'\n",
    "    \n",
    "    data['Deck'] = data['Cabin'].apply(lambda s: s[0] if pd.notnull(s) else 'Нет_данных')\n",
    "    data['Deck'] = data['Deck'].map({'Нет_данных': 0,\n",
    "                                         'C': 1,\n",
    "                                         'E': 2,\n",
    "                                         'D': 2,\n",
    "                                         'B': 1,\n",
    "                                         'F': 3,\n",
    "                                         'G': 3,\n",
    "                                         'A': 1,\n",
    "                                         'T': 1})\n",
    "    \n",
    "    # возраст по классам\n",
    "    \n",
    "    replace_values = data.groupby('Pclass').median()['Age']\n",
    "    data.loc[(data['Age'].isnull() == 1) & (data['Pclass'] == 1), 'Age'] = replace_values[1]               \n",
    "    data.loc[(data['Age'].isnull() == 1) & (data['Pclass'] == 2), 'Age'] = replace_values[2]                \n",
    "    data.loc[(data['Age'].isnull() == 1) & (data['Pclass'] == 3), 'Age'] = replace_values[3] \n",
    "    \n",
    "    # тариф по классам\n",
    "    \n",
    "    replace_values_1 = data.groupby('Pclass').median()['Fare']\n",
    "    data.loc[(data['Fare'].isnull() == 1) & (data['Pclass'] == 1), 'Fare'] = replace_values_1[1]               \n",
    "    data.loc[(data['Fare'].isnull() == 1) & (data['Pclass'] == 2), 'Fare'] = replace_values_1[2]                \n",
    "    data.loc[(data['Fare'].isnull() == 1) & (data['Pclass'] == 3), 'Fare'] = replace_values_1[3] \n",
    "    \n",
    "    # Порт погрузки вставляем моду\n",
    "    \n",
    "    data['Embarked'] = data['Embarked'].fillna(data['Embarked'].mode()[0])\n",
    "    \n",
    "    # Члены семьи\n",
    "    \n",
    "    data['Family_size'] = data['Parch'] + data['SibSp'] + 1\n",
    "    \n",
    "    data['Family_size'] = np.where(data['Family_size'] == 1, 1,\n",
    "                                             np.where(data['Family_size'] <= 4, 2,\n",
    "                                                      np.where(data['Family_size'] <= 6, 3, 4)))\n",
    "    \n",
    "    # Билеты по количеству\n",
    "    Tickets = list(data['Ticket'])\n",
    "    Count_Tickets = [Tickets.count(i) for i in Tickets]\n",
    "    data['Ticket_count'] = Count_Tickets\n",
    "    data['Ticket_count'] = np.where(data['Ticket_count'] == 1, 1,\n",
    "                                    np.where(data['Ticket_count'] <= 4, 2, 3))\n",
    "    \n",
    "    # Перекодируем значения категориальных признаков\n",
    "    \n",
    "    data['Sex'] = np.where(data['Sex'] == 'male', 1, 0)\n",
    "    \n",
    "    # удаляем лишние столбцы\n",
    "    data = data.drop(['PassengerId', 'SibSp', 'Parch', 'Name', 'Ticket', 'Cabin', 'Ticket_count', 'Deck'], axis=1)\n",
    "    \n",
    "    # разделяем групповые признаки\n",
    "    data = pd.get_dummies(data, columns = ['Embarked', 'Family_size'])\n",
    "\n",
    "#    data = pd.get_dummies(data, columns = ['Embarked', 'Pclass', 'Family_size', 'Ticket_count'])\n",
    "    \n",
    "    std_scaler = StandardScaler()\n",
    "    data.loc[:, ['Age', 'Fare']] = std_scaler.fit_transform(data[['Age', 'Fare']])\n",
    "    \n",
    "    return data"
   ]
  },
  {
   "cell_type": "markdown",
   "id": "3e43f31a",
   "metadata": {},
   "source": [
    "### Разделим на обучающую и тестовую выборку"
   ]
  },
  {
   "cell_type": "code",
   "execution_count": 43,
   "id": "78c5d049",
   "metadata": {},
   "outputs": [],
   "source": [
    "data_all_clear = preprocessing_data(data_all)\n",
    "X_train = data_all_clear.loc[:890].drop('Survived', axis=1)\n",
    "y_train = data_all_clear.loc[:890]['Survived']"
   ]
  },
  {
   "cell_type": "code",
   "execution_count": 44,
   "id": "c6b01a28",
   "metadata": {},
   "outputs": [
    {
     "data": {
      "text/html": [
       "<div>\n",
       "<style scoped>\n",
       "    .dataframe tbody tr th:only-of-type {\n",
       "        vertical-align: middle;\n",
       "    }\n",
       "\n",
       "    .dataframe tbody tr th {\n",
       "        vertical-align: top;\n",
       "    }\n",
       "\n",
       "    .dataframe thead th {\n",
       "        text-align: right;\n",
       "    }\n",
       "</style>\n",
       "<table border=\"1\" class=\"dataframe\">\n",
       "  <thead>\n",
       "    <tr style=\"text-align: right;\">\n",
       "      <th></th>\n",
       "      <th>Survived</th>\n",
       "      <th>Pclass</th>\n",
       "      <th>Sex</th>\n",
       "      <th>Age</th>\n",
       "      <th>Fare</th>\n",
       "      <th>Embarked_C</th>\n",
       "      <th>Embarked_Q</th>\n",
       "      <th>Embarked_S</th>\n",
       "      <th>Family_size_1</th>\n",
       "      <th>Family_size_2</th>\n",
       "      <th>Family_size_3</th>\n",
       "      <th>Family_size_4</th>\n",
       "    </tr>\n",
       "  </thead>\n",
       "  <tbody>\n",
       "    <tr>\n",
       "      <th>0</th>\n",
       "      <td>0.0</td>\n",
       "      <td>3</td>\n",
       "      <td>1</td>\n",
       "      <td>-0.547380</td>\n",
       "      <td>-0.503176</td>\n",
       "      <td>0</td>\n",
       "      <td>0</td>\n",
       "      <td>1</td>\n",
       "      <td>0</td>\n",
       "      <td>1</td>\n",
       "      <td>0</td>\n",
       "      <td>0</td>\n",
       "    </tr>\n",
       "    <tr>\n",
       "      <th>1</th>\n",
       "      <td>1.0</td>\n",
       "      <td>1</td>\n",
       "      <td>0</td>\n",
       "      <td>0.667747</td>\n",
       "      <td>0.734809</td>\n",
       "      <td>1</td>\n",
       "      <td>0</td>\n",
       "      <td>0</td>\n",
       "      <td>0</td>\n",
       "      <td>1</td>\n",
       "      <td>0</td>\n",
       "      <td>0</td>\n",
       "    </tr>\n",
       "    <tr>\n",
       "      <th>2</th>\n",
       "      <td>1.0</td>\n",
       "      <td>3</td>\n",
       "      <td>0</td>\n",
       "      <td>-0.243598</td>\n",
       "      <td>-0.490126</td>\n",
       "      <td>0</td>\n",
       "      <td>0</td>\n",
       "      <td>1</td>\n",
       "      <td>1</td>\n",
       "      <td>0</td>\n",
       "      <td>0</td>\n",
       "      <td>0</td>\n",
       "    </tr>\n",
       "    <tr>\n",
       "      <th>3</th>\n",
       "      <td>1.0</td>\n",
       "      <td>1</td>\n",
       "      <td>0</td>\n",
       "      <td>0.439911</td>\n",
       "      <td>0.383263</td>\n",
       "      <td>0</td>\n",
       "      <td>0</td>\n",
       "      <td>1</td>\n",
       "      <td>0</td>\n",
       "      <td>1</td>\n",
       "      <td>0</td>\n",
       "      <td>0</td>\n",
       "    </tr>\n",
       "    <tr>\n",
       "      <th>4</th>\n",
       "      <td>0.0</td>\n",
       "      <td>3</td>\n",
       "      <td>1</td>\n",
       "      <td>0.439911</td>\n",
       "      <td>-0.487709</td>\n",
       "      <td>0</td>\n",
       "      <td>0</td>\n",
       "      <td>1</td>\n",
       "      <td>1</td>\n",
       "      <td>0</td>\n",
       "      <td>0</td>\n",
       "      <td>0</td>\n",
       "    </tr>\n",
       "    <tr>\n",
       "      <th>...</th>\n",
       "      <td>...</td>\n",
       "      <td>...</td>\n",
       "      <td>...</td>\n",
       "      <td>...</td>\n",
       "      <td>...</td>\n",
       "      <td>...</td>\n",
       "      <td>...</td>\n",
       "      <td>...</td>\n",
       "      <td>...</td>\n",
       "      <td>...</td>\n",
       "      <td>...</td>\n",
       "      <td>...</td>\n",
       "    </tr>\n",
       "    <tr>\n",
       "      <th>1304</th>\n",
       "      <td>NaN</td>\n",
       "      <td>3</td>\n",
       "      <td>1</td>\n",
       "      <td>-0.395489</td>\n",
       "      <td>-0.487709</td>\n",
       "      <td>0</td>\n",
       "      <td>0</td>\n",
       "      <td>1</td>\n",
       "      <td>1</td>\n",
       "      <td>0</td>\n",
       "      <td>0</td>\n",
       "      <td>0</td>\n",
       "    </tr>\n",
       "    <tr>\n",
       "      <th>1305</th>\n",
       "      <td>NaN</td>\n",
       "      <td>1</td>\n",
       "      <td>0</td>\n",
       "      <td>0.743693</td>\n",
       "      <td>1.462069</td>\n",
       "      <td>1</td>\n",
       "      <td>0</td>\n",
       "      <td>0</td>\n",
       "      <td>1</td>\n",
       "      <td>0</td>\n",
       "      <td>0</td>\n",
       "      <td>0</td>\n",
       "    </tr>\n",
       "    <tr>\n",
       "      <th>1306</th>\n",
       "      <td>NaN</td>\n",
       "      <td>3</td>\n",
       "      <td>1</td>\n",
       "      <td>0.705720</td>\n",
       "      <td>-0.503176</td>\n",
       "      <td>0</td>\n",
       "      <td>0</td>\n",
       "      <td>1</td>\n",
       "      <td>1</td>\n",
       "      <td>0</td>\n",
       "      <td>0</td>\n",
       "      <td>0</td>\n",
       "    </tr>\n",
       "    <tr>\n",
       "      <th>1307</th>\n",
       "      <td>NaN</td>\n",
       "      <td>3</td>\n",
       "      <td>1</td>\n",
       "      <td>-0.395489</td>\n",
       "      <td>-0.487709</td>\n",
       "      <td>0</td>\n",
       "      <td>0</td>\n",
       "      <td>1</td>\n",
       "      <td>1</td>\n",
       "      <td>0</td>\n",
       "      <td>0</td>\n",
       "      <td>0</td>\n",
       "    </tr>\n",
       "    <tr>\n",
       "      <th>1308</th>\n",
       "      <td>NaN</td>\n",
       "      <td>3</td>\n",
       "      <td>1</td>\n",
       "      <td>-0.395489</td>\n",
       "      <td>-0.211081</td>\n",
       "      <td>1</td>\n",
       "      <td>0</td>\n",
       "      <td>0</td>\n",
       "      <td>0</td>\n",
       "      <td>1</td>\n",
       "      <td>0</td>\n",
       "      <td>0</td>\n",
       "    </tr>\n",
       "  </tbody>\n",
       "</table>\n",
       "<p>1309 rows × 12 columns</p>\n",
       "</div>"
      ],
      "text/plain": [
       "      Survived  Pclass  Sex       Age      Fare  Embarked_C  Embarked_Q  \\\n",
       "0          0.0       3    1 -0.547380 -0.503176           0           0   \n",
       "1          1.0       1    0  0.667747  0.734809           1           0   \n",
       "2          1.0       3    0 -0.243598 -0.490126           0           0   \n",
       "3          1.0       1    0  0.439911  0.383263           0           0   \n",
       "4          0.0       3    1  0.439911 -0.487709           0           0   \n",
       "...        ...     ...  ...       ...       ...         ...         ...   \n",
       "1304       NaN       3    1 -0.395489 -0.487709           0           0   \n",
       "1305       NaN       1    0  0.743693  1.462069           1           0   \n",
       "1306       NaN       3    1  0.705720 -0.503176           0           0   \n",
       "1307       NaN       3    1 -0.395489 -0.487709           0           0   \n",
       "1308       NaN       3    1 -0.395489 -0.211081           1           0   \n",
       "\n",
       "      Embarked_S  Family_size_1  Family_size_2  Family_size_3  Family_size_4  \n",
       "0              1              0              1              0              0  \n",
       "1              0              0              1              0              0  \n",
       "2              1              1              0              0              0  \n",
       "3              1              0              1              0              0  \n",
       "4              1              1              0              0              0  \n",
       "...          ...            ...            ...            ...            ...  \n",
       "1304           1              1              0              0              0  \n",
       "1305           0              1              0              0              0  \n",
       "1306           1              1              0              0              0  \n",
       "1307           1              1              0              0              0  \n",
       "1308           0              0              1              0              0  \n",
       "\n",
       "[1309 rows x 12 columns]"
      ]
     },
     "execution_count": 44,
     "metadata": {},
     "output_type": "execute_result"
    }
   ],
   "source": [
    "data_all_clear"
   ]
  },
  {
   "cell_type": "code",
   "execution_count": 45,
   "id": "27eb32ca",
   "metadata": {},
   "outputs": [],
   "source": [
    "X_test = data_all_clear.loc[891:].drop('Survived', axis=1)"
   ]
  },
  {
   "cell_type": "code",
   "execution_count": 46,
   "id": "853944f6",
   "metadata": {},
   "outputs": [
    {
     "name": "stdout",
     "output_type": "stream",
     "text": [
      "Размер обучающей выборки - (891, 11)\n",
      "Размер тестовой выборки - (418, 11)\n"
     ]
    }
   ],
   "source": [
    "print(f'Размер обучающей выборки - {X_train.shape}')\n",
    "print(f'Размер тестовой выборки - {X_test.shape}')"
   ]
  },
  {
   "cell_type": "markdown",
   "id": "da08e5c4",
   "metadata": {},
   "source": [
    "## 4. Подбор функции для обучения. Кросс-валидация."
   ]
  },
  {
   "cell_type": "code",
   "execution_count": 47,
   "id": "5b0a9798",
   "metadata": {},
   "outputs": [
    {
     "data": {
      "text/html": [
       "<div>\n",
       "<style scoped>\n",
       "    .dataframe tbody tr th:only-of-type {\n",
       "        vertical-align: middle;\n",
       "    }\n",
       "\n",
       "    .dataframe tbody tr th {\n",
       "        vertical-align: top;\n",
       "    }\n",
       "\n",
       "    .dataframe thead th {\n",
       "        text-align: right;\n",
       "    }\n",
       "</style>\n",
       "<table border=\"1\" class=\"dataframe\">\n",
       "  <thead>\n",
       "    <tr style=\"text-align: right;\">\n",
       "      <th></th>\n",
       "      <th>Pclass</th>\n",
       "      <th>Sex</th>\n",
       "      <th>Age</th>\n",
       "      <th>Fare</th>\n",
       "      <th>Embarked_C</th>\n",
       "      <th>Embarked_Q</th>\n",
       "      <th>Embarked_S</th>\n",
       "      <th>Family_size_1</th>\n",
       "      <th>Family_size_2</th>\n",
       "      <th>Family_size_3</th>\n",
       "      <th>Family_size_4</th>\n",
       "    </tr>\n",
       "  </thead>\n",
       "  <tbody>\n",
       "    <tr>\n",
       "      <th>0</th>\n",
       "      <td>3</td>\n",
       "      <td>1</td>\n",
       "      <td>-0.547380</td>\n",
       "      <td>-0.503176</td>\n",
       "      <td>0</td>\n",
       "      <td>0</td>\n",
       "      <td>1</td>\n",
       "      <td>0</td>\n",
       "      <td>1</td>\n",
       "      <td>0</td>\n",
       "      <td>0</td>\n",
       "    </tr>\n",
       "    <tr>\n",
       "      <th>1</th>\n",
       "      <td>1</td>\n",
       "      <td>0</td>\n",
       "      <td>0.667747</td>\n",
       "      <td>0.734809</td>\n",
       "      <td>1</td>\n",
       "      <td>0</td>\n",
       "      <td>0</td>\n",
       "      <td>0</td>\n",
       "      <td>1</td>\n",
       "      <td>0</td>\n",
       "      <td>0</td>\n",
       "    </tr>\n",
       "    <tr>\n",
       "      <th>2</th>\n",
       "      <td>3</td>\n",
       "      <td>0</td>\n",
       "      <td>-0.243598</td>\n",
       "      <td>-0.490126</td>\n",
       "      <td>0</td>\n",
       "      <td>0</td>\n",
       "      <td>1</td>\n",
       "      <td>1</td>\n",
       "      <td>0</td>\n",
       "      <td>0</td>\n",
       "      <td>0</td>\n",
       "    </tr>\n",
       "    <tr>\n",
       "      <th>3</th>\n",
       "      <td>1</td>\n",
       "      <td>0</td>\n",
       "      <td>0.439911</td>\n",
       "      <td>0.383263</td>\n",
       "      <td>0</td>\n",
       "      <td>0</td>\n",
       "      <td>1</td>\n",
       "      <td>0</td>\n",
       "      <td>1</td>\n",
       "      <td>0</td>\n",
       "      <td>0</td>\n",
       "    </tr>\n",
       "    <tr>\n",
       "      <th>4</th>\n",
       "      <td>3</td>\n",
       "      <td>1</td>\n",
       "      <td>0.439911</td>\n",
       "      <td>-0.487709</td>\n",
       "      <td>0</td>\n",
       "      <td>0</td>\n",
       "      <td>1</td>\n",
       "      <td>1</td>\n",
       "      <td>0</td>\n",
       "      <td>0</td>\n",
       "      <td>0</td>\n",
       "    </tr>\n",
       "  </tbody>\n",
       "</table>\n",
       "</div>"
      ],
      "text/plain": [
       "   Pclass  Sex       Age      Fare  Embarked_C  Embarked_Q  Embarked_S  \\\n",
       "0       3    1 -0.547380 -0.503176           0           0           1   \n",
       "1       1    0  0.667747  0.734809           1           0           0   \n",
       "2       3    0 -0.243598 -0.490126           0           0           1   \n",
       "3       1    0  0.439911  0.383263           0           0           1   \n",
       "4       3    1  0.439911 -0.487709           0           0           1   \n",
       "\n",
       "   Family_size_1  Family_size_2  Family_size_3  Family_size_4  \n",
       "0              0              1              0              0  \n",
       "1              0              1              0              0  \n",
       "2              1              0              0              0  \n",
       "3              0              1              0              0  \n",
       "4              1              0              0              0  "
      ]
     },
     "execution_count": 47,
     "metadata": {},
     "output_type": "execute_result"
    }
   ],
   "source": [
    "X_train.head()"
   ]
  },
  {
   "cell_type": "code",
   "execution_count": 48,
   "id": "8d142b1e",
   "metadata": {},
   "outputs": [
    {
     "data": {
      "text/html": [
       "<div>\n",
       "<style scoped>\n",
       "    .dataframe tbody tr th:only-of-type {\n",
       "        vertical-align: middle;\n",
       "    }\n",
       "\n",
       "    .dataframe tbody tr th {\n",
       "        vertical-align: top;\n",
       "    }\n",
       "\n",
       "    .dataframe thead th {\n",
       "        text-align: right;\n",
       "    }\n",
       "</style>\n",
       "<table border=\"1\" class=\"dataframe\">\n",
       "  <thead>\n",
       "    <tr style=\"text-align: right;\">\n",
       "      <th></th>\n",
       "      <th>Pclass</th>\n",
       "      <th>Sex</th>\n",
       "      <th>Age</th>\n",
       "      <th>Fare</th>\n",
       "      <th>Embarked_C</th>\n",
       "      <th>Embarked_Q</th>\n",
       "      <th>Embarked_S</th>\n",
       "      <th>Family_size_1</th>\n",
       "      <th>Family_size_2</th>\n",
       "      <th>Family_size_3</th>\n",
       "      <th>Family_size_4</th>\n",
       "    </tr>\n",
       "  </thead>\n",
       "  <tbody>\n",
       "    <tr>\n",
       "      <th>891</th>\n",
       "      <td>3</td>\n",
       "      <td>1</td>\n",
       "      <td>0.401938</td>\n",
       "      <td>-0.491978</td>\n",
       "      <td>0</td>\n",
       "      <td>1</td>\n",
       "      <td>0</td>\n",
       "      <td>1</td>\n",
       "      <td>0</td>\n",
       "      <td>0</td>\n",
       "      <td>0</td>\n",
       "    </tr>\n",
       "    <tr>\n",
       "      <th>892</th>\n",
       "      <td>3</td>\n",
       "      <td>0</td>\n",
       "      <td>1.351256</td>\n",
       "      <td>-0.508010</td>\n",
       "      <td>0</td>\n",
       "      <td>0</td>\n",
       "      <td>1</td>\n",
       "      <td>0</td>\n",
       "      <td>1</td>\n",
       "      <td>0</td>\n",
       "      <td>0</td>\n",
       "    </tr>\n",
       "    <tr>\n",
       "      <th>893</th>\n",
       "      <td>2</td>\n",
       "      <td>1</td>\n",
       "      <td>2.490437</td>\n",
       "      <td>-0.456051</td>\n",
       "      <td>0</td>\n",
       "      <td>1</td>\n",
       "      <td>0</td>\n",
       "      <td>1</td>\n",
       "      <td>0</td>\n",
       "      <td>0</td>\n",
       "      <td>0</td>\n",
       "    </tr>\n",
       "    <tr>\n",
       "      <th>894</th>\n",
       "      <td>3</td>\n",
       "      <td>1</td>\n",
       "      <td>-0.167653</td>\n",
       "      <td>-0.475868</td>\n",
       "      <td>0</td>\n",
       "      <td>0</td>\n",
       "      <td>1</td>\n",
       "      <td>1</td>\n",
       "      <td>0</td>\n",
       "      <td>0</td>\n",
       "      <td>0</td>\n",
       "    </tr>\n",
       "    <tr>\n",
       "      <th>895</th>\n",
       "      <td>3</td>\n",
       "      <td>0</td>\n",
       "      <td>-0.547380</td>\n",
       "      <td>-0.405784</td>\n",
       "      <td>0</td>\n",
       "      <td>0</td>\n",
       "      <td>1</td>\n",
       "      <td>0</td>\n",
       "      <td>1</td>\n",
       "      <td>0</td>\n",
       "      <td>0</td>\n",
       "    </tr>\n",
       "  </tbody>\n",
       "</table>\n",
       "</div>"
      ],
      "text/plain": [
       "     Pclass  Sex       Age      Fare  Embarked_C  Embarked_Q  Embarked_S  \\\n",
       "891       3    1  0.401938 -0.491978           0           1           0   \n",
       "892       3    0  1.351256 -0.508010           0           0           1   \n",
       "893       2    1  2.490437 -0.456051           0           1           0   \n",
       "894       3    1 -0.167653 -0.475868           0           0           1   \n",
       "895       3    0 -0.547380 -0.405784           0           0           1   \n",
       "\n",
       "     Family_size_1  Family_size_2  Family_size_3  Family_size_4  \n",
       "891              1              0              0              0  \n",
       "892              0              1              0              0  \n",
       "893              1              0              0              0  \n",
       "894              1              0              0              0  \n",
       "895              0              1              0              0  "
      ]
     },
     "execution_count": 48,
     "metadata": {},
     "output_type": "execute_result"
    }
   ],
   "source": [
    "X_test.head()"
   ]
  },
  {
   "cell_type": "code",
   "execution_count": 49,
   "id": "a571c83e",
   "metadata": {},
   "outputs": [],
   "source": [
    "# создадим перемешиватель для валидаций\n",
    "skf = StratifiedKFold(n_splits = 5, shuffle=True, random_state=0)"
   ]
  },
  {
   "cell_type": "markdown",
   "id": "8c81fd87",
   "metadata": {},
   "source": [
    "### 4.1 Обычное дерево решений"
   ]
  },
  {
   "cell_type": "code",
   "execution_count": 50,
   "id": "b22cb4f0",
   "metadata": {},
   "outputs": [],
   "source": [
    "tree = DecisionTreeClassifier().fit(X_train, y_train)"
   ]
  },
  {
   "cell_type": "code",
   "execution_count": 51,
   "id": "6d29b373",
   "metadata": {},
   "outputs": [
    {
     "name": "stdout",
     "output_type": "stream",
     "text": [
      "Обычный score на трейн множестве - 0.9820426487093153\n",
      "Кросс-валидационный score на трейн множестве - 0.7878664239532986\n"
     ]
    }
   ],
   "source": [
    "print(f'Обычный score на трейн множестве - {accuracy_score(y_train, tree.predict(X_train))}')\n",
    "print(f'Кросс-валидационный score на трейн множестве - {cross_val_score(tree, X_train, y_train, cv=skf).mean()}')"
   ]
  },
  {
   "cell_type": "code",
   "execution_count": 52,
   "id": "70325588",
   "metadata": {},
   "outputs": [],
   "source": [
    "max_depth_var = range(1, 50)\n",
    "tree_score = []\n",
    "tree_cv_score = []\n",
    "\n",
    "for m_d in max_depth_var:\n",
    "    tree = DecisionTreeClassifier(max_depth=m_d).fit(X_train, y_train)\n",
    "    tree_score.append(accuracy_score(y_train, tree.predict(X_train)))\n",
    "    tree_cv_score.append(cross_val_score(tree, X_train, y_train, cv=skf).mean())"
   ]
  },
  {
   "cell_type": "code",
   "execution_count": 53,
   "id": "3e310a2c",
   "metadata": {},
   "outputs": [
    {
     "data": {
      "text/plain": [
       "<matplotlib.legend.Legend at 0x228504a99d0>"
      ]
     },
     "execution_count": 53,
     "metadata": {},
     "output_type": "execute_result"
    },
    {
     "data": {
      "image/png": "[encoded data removed]",
      "text/plain": [
       "<Figure size 432x288 with 1 Axes>"
      ]
     },
     "metadata": {
      "needs_background": "light"
     },
     "output_type": "display_data"
    }
   ],
   "source": [
    "plt.plot(max_depth_var, tree_score, c='blue', label='обычный score')\n",
    "plt.plot(max_depth_var, tree_cv_score, c='red', label='кросс-валидационный score')\n",
    "plt.title('Разница в точности')\n",
    "plt.xlabel('max_depth')\n",
    "plt.ylabel('Score')\n",
    "plt.legend()"
   ]
  },
  {
   "cell_type": "code",
   "execution_count": 54,
   "id": "cc71e6cc",
   "metadata": {},
   "outputs": [],
   "source": [
    "tree_max = pd.DataFrame({'max_depth': max_depth_var, 'score': tree_score, \n",
    "              'cross_val_score': tree_cv_score})['cross_val_score'].max()"
   ]
  },
  {
   "cell_type": "markdown",
   "id": "00b22c44",
   "metadata": {},
   "source": [
    "### 4.2 K-NN, k-ближайших соседей"
   ]
  },
  {
   "cell_type": "code",
   "execution_count": 55,
   "id": "2dcf132d",
   "metadata": {},
   "outputs": [],
   "source": [
    "k_nn = KNeighborsClassifier(n_neighbors=5).fit(X_train, y_train)"
   ]
  },
  {
   "cell_type": "code",
   "execution_count": 56,
   "id": "67531f4c",
   "metadata": {},
   "outputs": [
    {
     "name": "stdout",
     "output_type": "stream",
     "text": [
      "Обычный score на трейн множестве - 0.8619528619528619\n",
      "Кросс-валидационный score на трейн множестве - 0.8080534806352395\n"
     ]
    }
   ],
   "source": [
    "print(f'Обычный score на трейн множестве - {accuracy_score(y_train, k_nn.predict(X_train))}')\n",
    "print(f'Кросс-валидационный score на трейн множестве - {cross_val_score(k_nn, X_train, y_train, cv=skf).mean()}')"
   ]
  },
  {
   "cell_type": "code",
   "execution_count": 57,
   "id": "229f52c0",
   "metadata": {},
   "outputs": [],
   "source": [
    "n_neighbors_var = range(1, 50)\n",
    "k_nn_score = []\n",
    "k_nn_cv_score = []\n",
    "\n",
    "for n_nb in n_neighbors_var:\n",
    "    k_nn = KNeighborsClassifier(n_neighbors=n_nb).fit(X_train, y_train)\n",
    "    k_nn_score.append(accuracy_score(y_train, k_nn.predict(X_train)))\n",
    "    k_nn_cv_score.append(cross_val_score(k_nn, X_train, y_train, cv=skf).mean())"
   ]
  },
  {
   "cell_type": "code",
   "execution_count": 58,
   "id": "15719c37",
   "metadata": {},
   "outputs": [
    {
     "data": {
      "text/plain": [
       "<matplotlib.legend.Legend at 0x228506aefd0>"
      ]
     },
     "execution_count": 58,
     "metadata": {},
     "output_type": "execute_result"
    },
    {
     "data": {
      "image/png": "[encoded data removed]",
      "text/plain": [
       "<Figure size 432x288 with 1 Axes>"
      ]
     },
     "metadata": {
      "needs_background": "light"
     },
     "output_type": "display_data"
    }
   ],
   "source": [
    "plt.plot(n_neighbors_var, k_nn_score, c='blue', label='обычный score')\n",
    "plt.plot(n_neighbors_var, k_nn_cv_score, c='red', label='кросс-валидационный score')\n",
    "plt.title('Разница в точности')\n",
    "plt.xlabel('n_neighbors')\n",
    "plt.ylabel('Score')\n",
    "plt.legend()"
   ]
  },
  {
   "cell_type": "code",
   "execution_count": 59,
   "id": "b3cc1501",
   "metadata": {},
   "outputs": [],
   "source": [
    "knn_max = pd.DataFrame({'n_neighbors': n_neighbors_var, 'score': k_nn_score, \n",
    "              'cross_val_score': k_nn_cv_score})['cross_val_score'].max()"
   ]
  },
  {
   "cell_type": "markdown",
   "id": "ee026b29",
   "metadata": {},
   "source": [
    "### 4.3 Логистическая регрессия"
   ]
  },
  {
   "cell_type": "code",
   "execution_count": 60,
   "id": "0f58e5f4",
   "metadata": {},
   "outputs": [
    {
     "data": {
      "text/plain": [
       "LogisticRegression(C=1, random_state=0)"
      ]
     },
     "execution_count": 60,
     "metadata": {},
     "output_type": "execute_result"
    }
   ],
   "source": [
    "logit = LogisticRegression(C=1, random_state=0)\n",
    "logit.fit(X_train, y_train)"
   ]
  },
  {
   "cell_type": "code",
   "execution_count": 61,
   "id": "33bad6af",
   "metadata": {},
   "outputs": [
    {
     "name": "stdout",
     "output_type": "stream",
     "text": [
      "Обычный score на трейн множестве - 0.819304152637486\n",
      "Кросс-валидационный score на трейн множестве - 0.8125353085179838\n"
     ]
    }
   ],
   "source": [
    "print(f'Обычный score на трейн множестве - {accuracy_score(y_train, logit.predict(X_train))}')\n",
    "print(f'Кросс-валидационный score на трейн множестве - {cross_val_score(logit, X_train, y_train, cv=skf).mean()}')"
   ]
  },
  {
   "cell_type": "code",
   "execution_count": 62,
   "id": "2c82efe1",
   "metadata": {},
   "outputs": [],
   "source": [
    "logit_c_var = np.logspace(-2, 2)\n",
    "logit_score = []\n",
    "logit_cv_score = []\n",
    "\n",
    "for c in logit_c_var:\n",
    "    logit = LogisticRegression(C=c).fit(X_train, y_train)\n",
    "    logit_score.append(accuracy_score(y_train, logit.predict(X_train)))\n",
    "    logit_cv_score.append(cross_val_score(logit, X_train, y_train, cv=skf).mean())"
   ]
  },
  {
   "cell_type": "code",
   "execution_count": 63,
   "id": "b60c86d7",
   "metadata": {},
   "outputs": [
    {
     "data": {
      "text/plain": [
       "<matplotlib.legend.Legend at 0x22850a1b640>"
      ]
     },
     "execution_count": 63,
     "metadata": {},
     "output_type": "execute_result"
    },
    {
     "data": {
      "image/png": "[encoded data removed]",
      "text/plain": [
       "<Figure size 432x288 with 1 Axes>"
      ]
     },
     "metadata": {
      "needs_background": "light"
     },
     "output_type": "display_data"
    }
   ],
   "source": [
    "plt.plot(logit_c_var, logit_score, c='blue', label='обычный score')\n",
    "plt.plot(logit_c_var, logit_cv_score, c='red', label='кросс-валидационный score')\n",
    "plt.title('Разница в точности')\n",
    "plt.xlabel('log регрессия')\n",
    "plt.xlim((0, 20))\n",
    "plt.ylabel('Score')\n",
    "plt.legend()"
   ]
  },
  {
   "cell_type": "code",
   "execution_count": 64,
   "id": "d2fca0a6",
   "metadata": {},
   "outputs": [],
   "source": [
    "logit_max = pd.DataFrame({'logit': logit_c_var, 'score': logit_score, \n",
    "              'cross_val_score': logit_cv_score})['cross_val_score'].max()"
   ]
  },
  {
   "cell_type": "markdown",
   "id": "de1cddd1",
   "metadata": {},
   "source": [
    "### 4.4 Случайный лес"
   ]
  },
  {
   "cell_type": "code",
   "execution_count": 65,
   "id": "5d7c5175",
   "metadata": {},
   "outputs": [
    {
     "data": {
      "text/plain": [
       "RandomForestClassifier()"
      ]
     },
     "execution_count": 65,
     "metadata": {},
     "output_type": "execute_result"
    }
   ],
   "source": [
    "RF = RandomForestClassifier()\n",
    "RF.fit(X_train, y_train)"
   ]
  },
  {
   "cell_type": "code",
   "execution_count": 66,
   "id": "ee84367d",
   "metadata": {},
   "outputs": [
    {
     "name": "stdout",
     "output_type": "stream",
     "text": [
      "Обычный score на трейн множестве - 0.9820426487093153\n",
      "Кросс-валидационный score на трейн множестве - 0.8080597577051034\n"
     ]
    }
   ],
   "source": [
    "print(f'Обычный score на трейн множестве - {accuracy_score(y_train, RF.predict(X_train))}')\n",
    "print(f'Кросс-валидационный score на трейн множестве - {cross_val_score(RF, X_train, y_train, cv=skf).mean()}')"
   ]
  },
  {
   "cell_type": "code",
   "execution_count": 67,
   "id": "8d2326a7",
   "metadata": {},
   "outputs": [],
   "source": [
    "RF_max_depth_var = range(1, 30)\n",
    "RF_score = []\n",
    "RF_cv_score = []\n",
    "\n",
    "for m_d in RF_max_depth_var:\n",
    "    RF = RandomForestClassifier(max_depth=m_d).fit(X_train, y_train)\n",
    "    RF_score.append(accuracy_score(y_train, RF.predict(X_train)))\n",
    "    RF_cv_score.append(cross_val_score(RF, X_train, y_train, cv=skf).mean())"
   ]
  },
  {
   "cell_type": "code",
   "execution_count": 68,
   "id": "97d271f8",
   "metadata": {},
   "outputs": [
    {
     "data": {
      "text/plain": [
       "<matplotlib.legend.Legend at 0x2284fb16f70>"
      ]
     },
     "execution_count": 68,
     "metadata": {},
     "output_type": "execute_result"
    },
    {
     "data": {
      "image/png": "[encoded data removed]",
      "text/plain": [
       "<Figure size 432x288 with 1 Axes>"
      ]
     },
     "metadata": {
      "needs_background": "light"
     },
     "output_type": "display_data"
    }
   ],
   "source": [
    "plt.plot(RF_max_depth_var, RF_score, c='blue', label='обычный score')\n",
    "plt.plot(RF_max_depth_var, RF_cv_score, c='red', label='кросс-валидационный score')\n",
    "plt.title('Разница в точности')\n",
    "plt.xlabel('Random Forest')\n",
    "plt.ylabel('Score')\n",
    "plt.legend()"
   ]
  },
  {
   "cell_type": "code",
   "execution_count": 69,
   "id": "300f443b",
   "metadata": {},
   "outputs": [],
   "source": [
    "RF_max = pd.DataFrame({'RF_m_d': RF_max_depth_var, 'score': RF_score, \n",
    "              'cross_val_score': RF_cv_score})['cross_val_score'].max()"
   ]
  },
  {
   "cell_type": "markdown",
   "id": "a1ec6b1c",
   "metadata": {},
   "source": [
    "### 4.5 GBM"
   ]
  },
  {
   "cell_type": "code",
   "execution_count": 70,
   "id": "861b31fe",
   "metadata": {},
   "outputs": [
    {
     "data": {
      "text/plain": [
       "GradientBoostingClassifier()"
      ]
     },
     "execution_count": 70,
     "metadata": {},
     "output_type": "execute_result"
    }
   ],
   "source": [
    "GBM = GradientBoostingClassifier()\n",
    "GBM.fit(X_train, y_train)"
   ]
  },
  {
   "cell_type": "code",
   "execution_count": 71,
   "id": "4b7597a6",
   "metadata": {},
   "outputs": [
    {
     "name": "stdout",
     "output_type": "stream",
     "text": [
      "Обычный score на трейн множестве - 0.9057239057239057\n",
      "Кросс-валидационный score на трейн множестве - 0.8204004770573097\n"
     ]
    }
   ],
   "source": [
    "print(f'Обычный score на трейн множестве - {accuracy_score(y_train, GBM.predict(X_train))}')\n",
    "print(f'Кросс-валидационный score на трейн множестве - {cross_val_score(GBM, X_train, y_train, cv=skf).mean()}')"
   ]
  },
  {
   "cell_type": "code",
   "execution_count": 72,
   "id": "5f01e974",
   "metadata": {},
   "outputs": [],
   "source": [
    "GBM_estimators_var = range(10, 200, 2)\n",
    "GBM_score = []\n",
    "GBM_cv_score = []\n",
    "\n",
    "for est in GBM_estimators_var:\n",
    "    GBM = GradientBoostingClassifier(n_estimators=est).fit(X_train, y_train)\n",
    "    GBM_score.append(accuracy_score(y_train, GBM.predict(X_train)))\n",
    "    GBM_cv_score.append(cross_val_score(GBM, X_train, y_train, cv=skf).mean())"
   ]
  },
  {
   "cell_type": "code",
   "execution_count": 73,
   "id": "07d0f12c",
   "metadata": {},
   "outputs": [
    {
     "data": {
      "text/plain": [
       "<matplotlib.legend.Legend at 0x22850b08c40>"
      ]
     },
     "execution_count": 73,
     "metadata": {},
     "output_type": "execute_result"
    },
    {
     "data": {
      "image/png": "[encoded data removed]",
      "text/plain": [
       "<Figure size 432x288 with 1 Axes>"
      ]
     },
     "metadata": {
      "needs_background": "light"
     },
     "output_type": "display_data"
    }
   ],
   "source": [
    "plt.plot(GBM_estimators_var, GBM_score, c='blue', label='обычный score')\n",
    "plt.plot(GBM_estimators_var, GBM_cv_score, c='red', label='кросс-валидационный score')\n",
    "plt.title('Разница в точности')\n",
    "plt.xlabel('n_estimators')\n",
    "plt.ylabel('Score')\n",
    "plt.legend()"
   ]
  },
  {
   "cell_type": "code",
   "execution_count": 74,
   "id": "f10d30cf",
   "metadata": {},
   "outputs": [],
   "source": [
    "GBM_max = pd.DataFrame({'GBM_est': GBM_estimators_var, 'score': GBM_score, \n",
    "              'cross_val_score': GBM_cv_score})['cross_val_score'].max()"
   ]
  },
  {
   "cell_type": "code",
   "execution_count": 75,
   "id": "7ad9f1c2",
   "metadata": {},
   "outputs": [
    {
     "name": "stdout",
     "output_type": "stream",
     "text": [
      "Наилучший кросс-валидационный score на трейн множестве для DecisionTree -     0.8204004770573097\n",
      "Наилучший кросс-валидационный score на трейн множестве для K-NN -             0.8080534806352395\n",
      "Наилучший кросс-валидационный score на трейн множестве для LogisticReg -      0.8136589040236017\n",
      "Наилучший кросс-валидационный score на трейн множестве для RandomForest -     0.8282719226664993\n",
      "Наилучший кросс-валидационный score на трейн множестве для GradientBoosting - 0.8316489862532169\n"
     ]
    }
   ],
   "source": [
    "print(f'Наилучший кросс-валидационный score на трейн множестве для DecisionTree -     {tree_max}')\n",
    "print(f'Наилучший кросс-валидационный score на трейн множестве для K-NN -             {knn_max}')\n",
    "print(f'Наилучший кросс-валидационный score на трейн множестве для LogisticReg -      {logit_max}')\n",
    "print(f'Наилучший кросс-валидационный score на трейн множестве для RandomForest -     {RF_max}')\n",
    "print(f'Наилучший кросс-валидационный score на трейн множестве для GradientBoosting - {GBM_max}')"
   ]
  },
  {
   "cell_type": "markdown",
   "id": "59e7a9fe",
   "metadata": {},
   "source": [
    "## 5. Перебор параметров модели"
   ]
  },
  {
   "cell_type": "code",
   "execution_count": 76,
   "id": "123fc73d",
   "metadata": {},
   "outputs": [],
   "source": [
    "model = RandomForestClassifier(random_state=17)\n",
    "\n",
    "params = {'n_estimators': range(110, 140), 'max_depth': range(8, 16), 'max_features': range(5, 7), \n",
    "             'min_samples_split': range(2, 10), 'min_samples_leaf': range(2, 10)}"
   ]
  },
  {
   "cell_type": "code",
   "execution_count": 77,
   "id": "9178b933",
   "metadata": {},
   "outputs": [
    {
     "name": "stdout",
     "output_type": "stream",
     "text": [
      "Лучшие параметры - {'n_estimators': 123, 'min_samples_split': 8, 'min_samples_leaf': 6, 'max_features': 5, 'max_depth': 9}\n",
      "Score на трейне - 0.8731762065095399\n",
      "Score на валидации - 0.8394756554307117\n"
     ]
    }
   ],
   "source": [
    "skf_1 = StratifiedKFold(n_splits = 10, shuffle=True, random_state=0)\n",
    "\n",
    "r_search_CV = RandomizedSearchCV(model, param_distributions=params, cv=skf_1)\n",
    "r_search_CV.fit(X_train, y_train)\n",
    "best_model = r_search_CV.best_estimator_\n",
    "best_val_score = cross_val_score(best_model, X_train, y_train, cv = skf_1, scoring = 'accuracy').mean()\n",
    "\n",
    "print(f'Лучшие параметры - {r_search_CV.best_params_}')\n",
    "print(f'Score на трейне - {best_model.score(X_train, y_train)}')\n",
    "print(f'Score на валидации - {best_val_score}')"
   ]
  },
  {
   "cell_type": "code",
   "execution_count": 78,
   "id": "6dad6ce5",
   "metadata": {},
   "outputs": [],
   "source": [
    "y_predict = best_model.predict(X_test)"
   ]
  },
  {
   "cell_type": "code",
   "execution_count": 79,
   "id": "c1eb0432",
   "metadata": {},
   "outputs": [
    {
     "data": {
      "text/plain": [
       "<AxesSubplot:>"
      ]
     },
     "execution_count": 79,
     "metadata": {},
     "output_type": "execute_result"
    },
    {
     "data": {
      "image/png": "[encoded data removed]",
      "text/plain": [
       "<Figure size 432x288 with 1 Axes>"
      ]
     },
     "metadata": {
      "needs_background": "light"
     },
     "output_type": "display_data"
    }
   ],
   "source": [
    "pd.Series(best_model.predict_proba(X_test)[:, 1]).hist(bins=20)"
   ]
  },
  {
   "cell_type": "code",
   "execution_count": 80,
   "id": "f86fee94",
   "metadata": {},
   "outputs": [
    {
     "data": {
      "text/html": [
       "<div>\n",
       "<style scoped>\n",
       "    .dataframe tbody tr th:only-of-type {\n",
       "        vertical-align: middle;\n",
       "    }\n",
       "\n",
       "    .dataframe tbody tr th {\n",
       "        vertical-align: top;\n",
       "    }\n",
       "\n",
       "    .dataframe thead th {\n",
       "        text-align: right;\n",
       "    }\n",
       "</style>\n",
       "<table border=\"1\" class=\"dataframe\">\n",
       "  <thead>\n",
       "    <tr style=\"text-align: right;\">\n",
       "      <th></th>\n",
       "      <th>PassengerId</th>\n",
       "      <th>Survived</th>\n",
       "    </tr>\n",
       "  </thead>\n",
       "  <tbody>\n",
       "    <tr>\n",
       "      <th>0</th>\n",
       "      <td>892</td>\n",
       "      <td>0</td>\n",
       "    </tr>\n",
       "    <tr>\n",
       "      <th>1</th>\n",
       "      <td>893</td>\n",
       "      <td>0</td>\n",
       "    </tr>\n",
       "    <tr>\n",
       "      <th>2</th>\n",
       "      <td>894</td>\n",
       "      <td>0</td>\n",
       "    </tr>\n",
       "    <tr>\n",
       "      <th>3</th>\n",
       "      <td>895</td>\n",
       "      <td>0</td>\n",
       "    </tr>\n",
       "    <tr>\n",
       "      <th>4</th>\n",
       "      <td>896</td>\n",
       "      <td>1</td>\n",
       "    </tr>\n",
       "    <tr>\n",
       "      <th>...</th>\n",
       "      <td>...</td>\n",
       "      <td>...</td>\n",
       "    </tr>\n",
       "    <tr>\n",
       "      <th>413</th>\n",
       "      <td>1305</td>\n",
       "      <td>0</td>\n",
       "    </tr>\n",
       "    <tr>\n",
       "      <th>414</th>\n",
       "      <td>1306</td>\n",
       "      <td>1</td>\n",
       "    </tr>\n",
       "    <tr>\n",
       "      <th>415</th>\n",
       "      <td>1307</td>\n",
       "      <td>0</td>\n",
       "    </tr>\n",
       "    <tr>\n",
       "      <th>416</th>\n",
       "      <td>1308</td>\n",
       "      <td>0</td>\n",
       "    </tr>\n",
       "    <tr>\n",
       "      <th>417</th>\n",
       "      <td>1309</td>\n",
       "      <td>0</td>\n",
       "    </tr>\n",
       "  </tbody>\n",
       "</table>\n",
       "<p>418 rows × 2 columns</p>\n",
       "</div>"
      ],
      "text/plain": [
       "     PassengerId  Survived\n",
       "0            892         0\n",
       "1            893         0\n",
       "2            894         0\n",
       "3            895         0\n",
       "4            896         1\n",
       "..           ...       ...\n",
       "413         1305         0\n",
       "414         1306         1\n",
       "415         1307         0\n",
       "416         1308         0\n",
       "417         1309         0\n",
       "\n",
       "[418 rows x 2 columns]"
      ]
     },
     "execution_count": 80,
     "metadata": {},
     "output_type": "execute_result"
    }
   ],
   "source": [
    "output = pd.DataFrame({'PassengerId': data_test.PassengerId, \n",
    "                       'Survived': y_predict})\n",
    "output = output.astype({'Survived': np.int64})\n",
    "\n",
    "output"
   ]
  },
  {
   "cell_type": "code",
   "execution_count": 81,
   "id": "31466b71",
   "metadata": {},
   "outputs": [],
   "source": [
    "output.to_csv(r'C:\\Users\\User\\Desktop\\Для задач\\Kaggle\\Соревнование Титаник\\Предсказанное\\Предсказания_titanic_RF.csv', \n",
    "              index=False)"
   ]
  },
  {
   "cell_type": "code",
   "execution_count": 85,
   "id": "f734bbe0",
   "metadata": {},
   "outputs": [],
   "source": [
    "# по данной модели score в паблике - 0,77511"
   ]
  }
 ],
 "metadata": {
  "kernelspec": {
   "display_name": "Python 3",
   "language": "python",
   "name": "python3"
  },
  "language_info": {
   "codemirror_mode": {
    "name": "ipython",
    "version": 3
   },
   "file_extension": ".py",
   "mimetype": "text/x-python",
   "name": "python",
   "nbconvert_exporter": "python",
   "pygments_lexer": "ipython3",
   "version": "3.8.8"
  }
 },
 "nbformat": 4,
 "nbformat_minor": 5
}
